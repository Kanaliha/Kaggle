{
 "cells": [
  {
   "cell_type": "markdown",
   "id": "7b9e9ebc",
   "metadata": {
    "papermill": {
     "duration": 0.005535,
     "end_time": "2022-06-29T06:33:42.220315",
     "exception": false,
     "start_time": "2022-06-29T06:33:42.214780",
     "status": "completed"
    },
    "tags": []
   },
   "source": [
    "- load submission with iterative imp and reconstruct dataset with it - DONE\n",
    "\n",
    "- for col in cols with missing values (or only F2_x and F4_x ?)\n",
    "    - col is target\n",
    "    - other cols are features\n",
    "    - complete rows are for training\n",
    "    - incomplete (with missing value) are for prediction\n",
    "    - when the prediction is complete, update column values in dataset"
   ]
  },
  {
   "cell_type": "code",
   "execution_count": 1,
   "id": "d3f9ce9c",
   "metadata": {
    "_cell_guid": "b1076dfc-b9ad-4769-8c92-a6c4dae69d19",
    "_uuid": "8f2839f25d086af736a60e9eeb907d3b93b6e0e5",
    "execution": {
     "iopub.execute_input": "2022-06-29T06:33:42.231692Z",
     "iopub.status.busy": "2022-06-29T06:33:42.230859Z",
     "iopub.status.idle": "2022-06-29T06:33:42.243305Z",
     "shell.execute_reply": "2022-06-29T06:33:42.242116Z"
    },
    "papermill": {
     "duration": 0.020875,
     "end_time": "2022-06-29T06:33:42.245942",
     "exception": false,
     "start_time": "2022-06-29T06:33:42.225067",
     "status": "completed"
    },
    "tags": []
   },
   "outputs": [],
   "source": [
    "import numpy as np # linear algebra\n",
    "import pandas as pd # data processing, CSV file I/O (e.g. pd.read_csv)\n",
    "\n",
    "from tqdm import tqdm"
   ]
  },
  {
   "cell_type": "markdown",
   "id": "913520f0",
   "metadata": {
    "papermill": {
     "duration": 0.004087,
     "end_time": "2022-06-29T06:33:42.254613",
     "exception": false,
     "start_time": "2022-06-29T06:33:42.250526",
     "status": "completed"
    },
    "tags": []
   },
   "source": [
    "# Load Data"
   ]
  },
  {
   "cell_type": "code",
   "execution_count": 2,
   "id": "a4a7ee5d",
   "metadata": {
    "execution": {
     "iopub.execute_input": "2022-06-29T06:33:42.265149Z",
     "iopub.status.busy": "2022-06-29T06:33:42.264744Z",
     "iopub.status.idle": "2022-06-29T06:34:03.063428Z",
     "shell.execute_reply": "2022-06-29T06:34:03.062301Z"
    },
    "papermill": {
     "duration": 20.807238,
     "end_time": "2022-06-29T06:34:03.066185",
     "exception": false,
     "start_time": "2022-06-29T06:33:42.258947",
     "status": "completed"
    },
    "tags": []
   },
   "outputs": [],
   "source": [
    "data = pd.read_csv('../input/tabular-playground-series-jun-2022/data.csv', index_col = 'row_id')\n",
    "submission = pd.read_csv('../input/tabular-playground-series-jun-2022/sample_submission.csv', index_col = 'row-col')\n",
    "sub_iter = pd.read_csv('../input/submission-iterativeimp/submission_iterative-imp.csv', index_col = 'row-col')\n",
    "#sub_iter = pd.read_csv('../input/submission-iterF4/submission_iterativeF_4.csv', index_col = 'row-col')\n",
    "\n",
    "# display(data,submission,sub_iter)"
   ]
  },
  {
   "cell_type": "code",
   "execution_count": 3,
   "id": "9294e7d1",
   "metadata": {
    "execution": {
     "iopub.execute_input": "2022-06-29T06:34:03.078750Z",
     "iopub.status.busy": "2022-06-29T06:34:03.077785Z",
     "iopub.status.idle": "2022-06-29T06:34:03.265140Z",
     "shell.execute_reply": "2022-06-29T06:34:03.263889Z"
    },
    "papermill": {
     "duration": 0.197645,
     "end_time": "2022-06-29T06:34:03.268451",
     "exception": false,
     "start_time": "2022-06-29T06:34:03.070806",
     "status": "completed"
    },
    "tags": []
   },
   "outputs": [
    {
     "data": {
      "text/html": [
       "<div>\n",
       "<style scoped>\n",
       "    .dataframe tbody tr th:only-of-type {\n",
       "        vertical-align: middle;\n",
       "    }\n",
       "\n",
       "    .dataframe tbody tr th {\n",
       "        vertical-align: top;\n",
       "    }\n",
       "\n",
       "    .dataframe thead th {\n",
       "        text-align: right;\n",
       "    }\n",
       "</style>\n",
       "<table border=\"1\" class=\"dataframe\">\n",
       "  <thead>\n",
       "    <tr style=\"text-align: right;\">\n",
       "      <th></th>\n",
       "      <th>F_1_0</th>\n",
       "      <th>F_1_1</th>\n",
       "      <th>F_1_2</th>\n",
       "      <th>F_1_3</th>\n",
       "      <th>F_1_4</th>\n",
       "      <th>F_1_5</th>\n",
       "      <th>F_1_6</th>\n",
       "      <th>F_1_7</th>\n",
       "      <th>F_1_8</th>\n",
       "      <th>F_1_9</th>\n",
       "      <th>...</th>\n",
       "      <th>F_4_5</th>\n",
       "      <th>F_4_6</th>\n",
       "      <th>F_4_7</th>\n",
       "      <th>F_4_8</th>\n",
       "      <th>F_4_9</th>\n",
       "      <th>F_4_10</th>\n",
       "      <th>F_4_11</th>\n",
       "      <th>F_4_12</th>\n",
       "      <th>F_4_13</th>\n",
       "      <th>F_4_14</th>\n",
       "    </tr>\n",
       "    <tr>\n",
       "      <th>row_id</th>\n",
       "      <th></th>\n",
       "      <th></th>\n",
       "      <th></th>\n",
       "      <th></th>\n",
       "      <th></th>\n",
       "      <th></th>\n",
       "      <th></th>\n",
       "      <th></th>\n",
       "      <th></th>\n",
       "      <th></th>\n",
       "      <th></th>\n",
       "      <th></th>\n",
       "      <th></th>\n",
       "      <th></th>\n",
       "      <th></th>\n",
       "      <th></th>\n",
       "      <th></th>\n",
       "      <th></th>\n",
       "      <th></th>\n",
       "      <th></th>\n",
       "      <th></th>\n",
       "    </tr>\n",
       "  </thead>\n",
       "  <tbody>\n",
       "    <tr>\n",
       "      <th>0</th>\n",
       "      <td>-0.354591</td>\n",
       "      <td>-0.464038</td>\n",
       "      <td>2.304115</td>\n",
       "      <td>0.734486</td>\n",
       "      <td>1.696395</td>\n",
       "      <td>0.136285</td>\n",
       "      <td>-0.518344</td>\n",
       "      <td>0.502640</td>\n",
       "      <td>-1.852504</td>\n",
       "      <td>-0.500665</td>\n",
       "      <td>...</td>\n",
       "      <td>3.744152</td>\n",
       "      <td>0.794438</td>\n",
       "      <td>0.265185</td>\n",
       "      <td>-0.561809</td>\n",
       "      <td>0.196480</td>\n",
       "      <td>0.373434</td>\n",
       "      <td>6.206995</td>\n",
       "      <td>3.809505</td>\n",
       "      <td>1.236486</td>\n",
       "      <td>1.182055</td>\n",
       "    </tr>\n",
       "    <tr>\n",
       "      <th>1</th>\n",
       "      <td>1.380940</td>\n",
       "      <td>-0.499626</td>\n",
       "      <td>-0.418548</td>\n",
       "      <td>1.911725</td>\n",
       "      <td>-0.826130</td>\n",
       "      <td>-1.715371</td>\n",
       "      <td>-0.577091</td>\n",
       "      <td>-1.041486</td>\n",
       "      <td>0.596067</td>\n",
       "      <td>-0.363425</td>\n",
       "      <td>...</td>\n",
       "      <td>-2.895826</td>\n",
       "      <td>-0.738275</td>\n",
       "      <td>2.361818</td>\n",
       "      <td>-0.060753</td>\n",
       "      <td>0.727249</td>\n",
       "      <td>-0.271882</td>\n",
       "      <td>5.232157</td>\n",
       "      <td>-4.218259</td>\n",
       "      <td>-2.724883</td>\n",
       "      <td>-0.063775</td>\n",
       "    </tr>\n",
       "    <tr>\n",
       "      <th>2</th>\n",
       "      <td>0.256023</td>\n",
       "      <td>-1.059874</td>\n",
       "      <td>NaN</td>\n",
       "      <td>0.345678</td>\n",
       "      <td>1.513814</td>\n",
       "      <td>1.243864</td>\n",
       "      <td>-0.509648</td>\n",
       "      <td>-0.800481</td>\n",
       "      <td>-0.115945</td>\n",
       "      <td>0.595777</td>\n",
       "      <td>...</td>\n",
       "      <td>2.252834</td>\n",
       "      <td>0.472496</td>\n",
       "      <td>2.491386</td>\n",
       "      <td>0.353381</td>\n",
       "      <td>-0.260682</td>\n",
       "      <td>-0.000833</td>\n",
       "      <td>-0.116457</td>\n",
       "      <td>-2.131747</td>\n",
       "      <td>3.661499</td>\n",
       "      <td>-0.131576</td>\n",
       "    </tr>\n",
       "    <tr>\n",
       "      <th>3</th>\n",
       "      <td>-0.728420</td>\n",
       "      <td>-2.432399</td>\n",
       "      <td>-2.453602</td>\n",
       "      <td>-0.020509</td>\n",
       "      <td>0.333397</td>\n",
       "      <td>0.086049</td>\n",
       "      <td>-1.787601</td>\n",
       "      <td>0.667011</td>\n",
       "      <td>0.761564</td>\n",
       "      <td>-2.217847</td>\n",
       "      <td>...</td>\n",
       "      <td>2.004600</td>\n",
       "      <td>-4.664806</td>\n",
       "      <td>-0.847211</td>\n",
       "      <td>-0.264249</td>\n",
       "      <td>0.664334</td>\n",
       "      <td>-0.557868</td>\n",
       "      <td>8.499483</td>\n",
       "      <td>-4.738799</td>\n",
       "      <td>-3.054611</td>\n",
       "      <td>0.494152</td>\n",
       "    </tr>\n",
       "    <tr>\n",
       "      <th>4</th>\n",
       "      <td>0.590212</td>\n",
       "      <td>-0.066127</td>\n",
       "      <td>0.468009</td>\n",
       "      <td>-1.096038</td>\n",
       "      <td>0.119399</td>\n",
       "      <td>-1.809710</td>\n",
       "      <td>0.466358</td>\n",
       "      <td>-0.053196</td>\n",
       "      <td>-0.580320</td>\n",
       "      <td>-1.143500</td>\n",
       "      <td>...</td>\n",
       "      <td>0.976937</td>\n",
       "      <td>2.558883</td>\n",
       "      <td>3.377724</td>\n",
       "      <td>0.846891</td>\n",
       "      <td>0.696032</td>\n",
       "      <td>0.554121</td>\n",
       "      <td>-5.979714</td>\n",
       "      <td>-2.869631</td>\n",
       "      <td>3.733057</td>\n",
       "      <td>-0.722943</td>\n",
       "    </tr>\n",
       "    <tr>\n",
       "      <th>...</th>\n",
       "      <td>...</td>\n",
       "      <td>...</td>\n",
       "      <td>...</td>\n",
       "      <td>...</td>\n",
       "      <td>...</td>\n",
       "      <td>...</td>\n",
       "      <td>...</td>\n",
       "      <td>...</td>\n",
       "      <td>...</td>\n",
       "      <td>...</td>\n",
       "      <td>...</td>\n",
       "      <td>...</td>\n",
       "      <td>...</td>\n",
       "      <td>...</td>\n",
       "      <td>...</td>\n",
       "      <td>...</td>\n",
       "      <td>...</td>\n",
       "      <td>...</td>\n",
       "      <td>...</td>\n",
       "      <td>...</td>\n",
       "      <td>...</td>\n",
       "    </tr>\n",
       "    <tr>\n",
       "      <th>999995</th>\n",
       "      <td>-0.823740</td>\n",
       "      <td>0.285673</td>\n",
       "      <td>0.343307</td>\n",
       "      <td>-0.436747</td>\n",
       "      <td>1.700549</td>\n",
       "      <td>-1.069432</td>\n",
       "      <td>0.819698</td>\n",
       "      <td>-0.168457</td>\n",
       "      <td>-0.429074</td>\n",
       "      <td>0.844075</td>\n",
       "      <td>...</td>\n",
       "      <td>1.799592</td>\n",
       "      <td>-0.301352</td>\n",
       "      <td>5.339675</td>\n",
       "      <td>-0.991529</td>\n",
       "      <td>1.279494</td>\n",
       "      <td>-0.841051</td>\n",
       "      <td>-2.276500</td>\n",
       "      <td>1.762961</td>\n",
       "      <td>5.324553</td>\n",
       "      <td>-0.228733</td>\n",
       "    </tr>\n",
       "    <tr>\n",
       "      <th>999996</th>\n",
       "      <td>-0.769106</td>\n",
       "      <td>-0.387363</td>\n",
       "      <td>-1.227469</td>\n",
       "      <td>0.601183</td>\n",
       "      <td>0.351161</td>\n",
       "      <td>0.219475</td>\n",
       "      <td>-0.530277</td>\n",
       "      <td>0.853452</td>\n",
       "      <td>0.608646</td>\n",
       "      <td>1.648023</td>\n",
       "      <td>...</td>\n",
       "      <td>1.909697</td>\n",
       "      <td>-1.299360</td>\n",
       "      <td>-0.071713</td>\n",
       "      <td>-0.162173</td>\n",
       "      <td>0.072501</td>\n",
       "      <td>-0.614687</td>\n",
       "      <td>-1.265524</td>\n",
       "      <td>0.190385</td>\n",
       "      <td>-0.344112</td>\n",
       "      <td>-0.346807</td>\n",
       "    </tr>\n",
       "    <tr>\n",
       "      <th>999997</th>\n",
       "      <td>0.147534</td>\n",
       "      <td>-0.715276</td>\n",
       "      <td>-0.465049</td>\n",
       "      <td>-1.988941</td>\n",
       "      <td>-1.594535</td>\n",
       "      <td>-1.044882</td>\n",
       "      <td>3.159455</td>\n",
       "      <td>-0.634108</td>\n",
       "      <td>0.890382</td>\n",
       "      <td>-1.212444</td>\n",
       "      <td>...</td>\n",
       "      <td>2.891854</td>\n",
       "      <td>3.105002</td>\n",
       "      <td>-3.470520</td>\n",
       "      <td>NaN</td>\n",
       "      <td>0.096988</td>\n",
       "      <td>0.569255</td>\n",
       "      <td>3.609790</td>\n",
       "      <td>-0.584108</td>\n",
       "      <td>-1.492096</td>\n",
       "      <td>-0.997502</td>\n",
       "    </tr>\n",
       "    <tr>\n",
       "      <th>999998</th>\n",
       "      <td>-1.709886</td>\n",
       "      <td>-0.813785</td>\n",
       "      <td>-1.866536</td>\n",
       "      <td>-0.179420</td>\n",
       "      <td>2.231478</td>\n",
       "      <td>1.460122</td>\n",
       "      <td>-0.220585</td>\n",
       "      <td>-0.118496</td>\n",
       "      <td>-0.140064</td>\n",
       "      <td>1.362596</td>\n",
       "      <td>...</td>\n",
       "      <td>-1.135003</td>\n",
       "      <td>-5.127360</td>\n",
       "      <td>-3.903728</td>\n",
       "      <td>-1.597023</td>\n",
       "      <td>0.893159</td>\n",
       "      <td>0.379434</td>\n",
       "      <td>0.846266</td>\n",
       "      <td>-1.085554</td>\n",
       "      <td>3.122423</td>\n",
       "      <td>0.004831</td>\n",
       "    </tr>\n",
       "    <tr>\n",
       "      <th>999999</th>\n",
       "      <td>-0.806380</td>\n",
       "      <td>-0.025251</td>\n",
       "      <td>-0.875477</td>\n",
       "      <td>0.802440</td>\n",
       "      <td>0.889492</td>\n",
       "      <td>-1.030684</td>\n",
       "      <td>-0.209134</td>\n",
       "      <td>-0.341420</td>\n",
       "      <td>2.367991</td>\n",
       "      <td>0.314807</td>\n",
       "      <td>...</td>\n",
       "      <td>1.079820</td>\n",
       "      <td>-1.098772</td>\n",
       "      <td>-1.428362</td>\n",
       "      <td>-1.255175</td>\n",
       "      <td>0.509799</td>\n",
       "      <td>0.711470</td>\n",
       "      <td>-2.448386</td>\n",
       "      <td>2.334131</td>\n",
       "      <td>5.425421</td>\n",
       "      <td>-0.828847</td>\n",
       "    </tr>\n",
       "  </tbody>\n",
       "</table>\n",
       "<p>1000000 rows × 80 columns</p>\n",
       "</div>"
      ],
      "text/plain": [
       "           F_1_0     F_1_1     F_1_2     F_1_3     F_1_4     F_1_5     F_1_6  \\\n",
       "row_id                                                                         \n",
       "0      -0.354591 -0.464038  2.304115  0.734486  1.696395  0.136285 -0.518344   \n",
       "1       1.380940 -0.499626 -0.418548  1.911725 -0.826130 -1.715371 -0.577091   \n",
       "2       0.256023 -1.059874       NaN  0.345678  1.513814  1.243864 -0.509648   \n",
       "3      -0.728420 -2.432399 -2.453602 -0.020509  0.333397  0.086049 -1.787601   \n",
       "4       0.590212 -0.066127  0.468009 -1.096038  0.119399 -1.809710  0.466358   \n",
       "...          ...       ...       ...       ...       ...       ...       ...   \n",
       "999995 -0.823740  0.285673  0.343307 -0.436747  1.700549 -1.069432  0.819698   \n",
       "999996 -0.769106 -0.387363 -1.227469  0.601183  0.351161  0.219475 -0.530277   \n",
       "999997  0.147534 -0.715276 -0.465049 -1.988941 -1.594535 -1.044882  3.159455   \n",
       "999998 -1.709886 -0.813785 -1.866536 -0.179420  2.231478  1.460122 -0.220585   \n",
       "999999 -0.806380 -0.025251 -0.875477  0.802440  0.889492 -1.030684 -0.209134   \n",
       "\n",
       "           F_1_7     F_1_8     F_1_9  ...     F_4_5     F_4_6     F_4_7  \\\n",
       "row_id                                ...                                 \n",
       "0       0.502640 -1.852504 -0.500665  ...  3.744152  0.794438  0.265185   \n",
       "1      -1.041486  0.596067 -0.363425  ... -2.895826 -0.738275  2.361818   \n",
       "2      -0.800481 -0.115945  0.595777  ...  2.252834  0.472496  2.491386   \n",
       "3       0.667011  0.761564 -2.217847  ...  2.004600 -4.664806 -0.847211   \n",
       "4      -0.053196 -0.580320 -1.143500  ...  0.976937  2.558883  3.377724   \n",
       "...          ...       ...       ...  ...       ...       ...       ...   \n",
       "999995 -0.168457 -0.429074  0.844075  ...  1.799592 -0.301352  5.339675   \n",
       "999996  0.853452  0.608646  1.648023  ...  1.909697 -1.299360 -0.071713   \n",
       "999997 -0.634108  0.890382 -1.212444  ...  2.891854  3.105002 -3.470520   \n",
       "999998 -0.118496 -0.140064  1.362596  ... -1.135003 -5.127360 -3.903728   \n",
       "999999 -0.341420  2.367991  0.314807  ...  1.079820 -1.098772 -1.428362   \n",
       "\n",
       "           F_4_8     F_4_9    F_4_10    F_4_11    F_4_12    F_4_13    F_4_14  \n",
       "row_id                                                                        \n",
       "0      -0.561809  0.196480  0.373434  6.206995  3.809505  1.236486  1.182055  \n",
       "1      -0.060753  0.727249 -0.271882  5.232157 -4.218259 -2.724883 -0.063775  \n",
       "2       0.353381 -0.260682 -0.000833 -0.116457 -2.131747  3.661499 -0.131576  \n",
       "3      -0.264249  0.664334 -0.557868  8.499483 -4.738799 -3.054611  0.494152  \n",
       "4       0.846891  0.696032  0.554121 -5.979714 -2.869631  3.733057 -0.722943  \n",
       "...          ...       ...       ...       ...       ...       ...       ...  \n",
       "999995 -0.991529  1.279494 -0.841051 -2.276500  1.762961  5.324553 -0.228733  \n",
       "999996 -0.162173  0.072501 -0.614687 -1.265524  0.190385 -0.344112 -0.346807  \n",
       "999997       NaN  0.096988  0.569255  3.609790 -0.584108 -1.492096 -0.997502  \n",
       "999998 -1.597023  0.893159  0.379434  0.846266 -1.085554  3.122423  0.004831  \n",
       "999999 -1.255175  0.509799  0.711470 -2.448386  2.334131  5.425421 -0.828847  \n",
       "\n",
       "[1000000 rows x 80 columns]"
      ]
     },
     "execution_count": 3,
     "metadata": {},
     "output_type": "execute_result"
    }
   ],
   "source": [
    "data"
   ]
  },
  {
   "cell_type": "code",
   "execution_count": 4,
   "id": "fb053dd5",
   "metadata": {
    "execution": {
     "iopub.execute_input": "2022-06-29T06:34:03.280716Z",
     "iopub.status.busy": "2022-06-29T06:34:03.280323Z",
     "iopub.status.idle": "2022-06-29T06:34:03.285099Z",
     "shell.execute_reply": "2022-06-29T06:34:03.283923Z"
    },
    "papermill": {
     "duration": 0.01359,
     "end_time": "2022-06-29T06:34:03.287322",
     "exception": false,
     "start_time": "2022-06-29T06:34:03.273732",
     "status": "completed"
    },
    "tags": []
   },
   "outputs": [],
   "source": [
    "# # discussion says that mean for F_1 & 3 is better than everything else. Let's try.\n",
    "# from sklearn.impute import SimpleImputer\n",
    "\n",
    "# data_imp = data.copy()\n",
    "\n",
    "# imp = SimpleImputer(strategy='mean')\n",
    "# data_imp[:] = imp.fit_transform(data_imp)\n",
    "\n",
    "# data_imp"
   ]
  },
  {
   "cell_type": "code",
   "execution_count": 5,
   "id": "00622ffe",
   "metadata": {
    "execution": {
     "iopub.execute_input": "2022-06-29T06:34:03.299566Z",
     "iopub.status.busy": "2022-06-29T06:34:03.298660Z",
     "iopub.status.idle": "2022-06-29T06:34:03.304919Z",
     "shell.execute_reply": "2022-06-29T06:34:03.303914Z"
    },
    "papermill": {
     "duration": 0.014893,
     "end_time": "2022-06-29T06:34:03.307318",
     "exception": false,
     "start_time": "2022-06-29T06:34:03.292425",
     "status": "completed"
    },
    "tags": []
   },
   "outputs": [],
   "source": [
    "# # now use prepared predictions for F_4_*\n",
    "# for i in tqdm(sub_iter.index):\n",
    "#     row = int(i.split('-')[0])\n",
    "#     col = i.split('-')[1]\n",
    "#     if col.startswith('F_4_'):\n",
    "#         data_imp.at[row,col] = sub_iter.loc[i]\n",
    "        \n",
    "# data_imp"
   ]
  },
  {
   "cell_type": "markdown",
   "id": "426b96e4",
   "metadata": {
    "papermill": {
     "duration": 0.005024,
     "end_time": "2022-06-29T06:34:03.317468",
     "exception": false,
     "start_time": "2022-06-29T06:34:03.312444",
     "status": "completed"
    },
    "tags": []
   },
   "source": [
    "# Apply results from Iterative Imputer"
   ]
  },
  {
   "cell_type": "code",
   "execution_count": 6,
   "id": "be8edcff",
   "metadata": {
    "execution": {
     "iopub.execute_input": "2022-06-29T06:34:03.330008Z",
     "iopub.status.busy": "2022-06-29T06:34:03.329053Z",
     "iopub.status.idle": "2022-06-29T06:35:57.915563Z",
     "shell.execute_reply": "2022-06-29T06:35:57.914143Z"
    },
    "papermill": {
     "duration": 114.595724,
     "end_time": "2022-06-29T06:35:57.918409",
     "exception": false,
     "start_time": "2022-06-29T06:34:03.322685",
     "status": "completed"
    },
    "tags": []
   },
   "outputs": [
    {
     "name": "stderr",
     "output_type": "stream",
     "text": [
      "100%|██████████| 1000000/1000000 [01:54<00:00, 8744.69it/s]\n"
     ]
    }
   ],
   "source": [
    "# use results from iterative imputation as a base for next steps -> fill values into data\n",
    "data_imp = data.copy()\n",
    "for i in tqdm(sub_iter.index):\n",
    "    row = int(i.split('-')[0])\n",
    "    col = i.split('-')[1]\n",
    "    data_imp.at[row,col] = sub_iter.loc[i]"
   ]
  },
  {
   "cell_type": "markdown",
   "id": "9b0a3868",
   "metadata": {
    "papermill": {
     "duration": 0.080676,
     "end_time": "2022-06-29T06:35:58.083054",
     "exception": false,
     "start_time": "2022-06-29T06:35:58.002378",
     "status": "completed"
    },
    "tags": []
   },
   "source": [
    "# Treat cols with missing values as targets"
   ]
  },
  {
   "cell_type": "markdown",
   "id": "666536a7",
   "metadata": {
    "papermill": {
     "duration": 0.080619,
     "end_time": "2022-06-29T06:35:58.244871",
     "exception": false,
     "start_time": "2022-06-29T06:35:58.164252",
     "status": "completed"
    },
    "tags": []
   },
   "source": [
    "Let's do this part only for columns F_4_*\n",
    "others have probably no impact. \n",
    "\n",
    "https://www.kaggle.com/code/jadelsoufi/bayesian-optimization-xgboost-lgbm/comments?scriptVersionId=99389640"
   ]
  },
  {
   "cell_type": "code",
   "execution_count": 7,
   "id": "cf05784f",
   "metadata": {
    "execution": {
     "iopub.execute_input": "2022-06-29T06:35:58.409752Z",
     "iopub.status.busy": "2022-06-29T06:35:58.409381Z",
     "iopub.status.idle": "2022-06-29T07:26:37.574609Z",
     "shell.execute_reply": "2022-06-29T07:26:37.572788Z"
    },
    "papermill": {
     "duration": 3039.334159,
     "end_time": "2022-06-29T07:26:37.660666",
     "exception": false,
     "start_time": "2022-06-29T06:35:58.326507",
     "status": "completed"
    },
    "tags": []
   },
   "outputs": [
    {
     "name": "stderr",
     "output_type": "stream",
     "text": [
      "100%|██████████| 15/15 [50:37<00:00, 202.52s/it]"
     ]
    },
    {
     "name": "stdout",
     "output_type": "stream",
     "text": [
      "CPU times: user 3h 18min 11s, sys: 14.3 s, total: 3h 18min 25s\n",
      "Wall time: 50min 39s\n"
     ]
    },
    {
     "name": "stderr",
     "output_type": "stream",
     "text": [
      "\n"
     ]
    }
   ],
   "source": [
    "%%time\n",
    " \n",
    "from xgboost import XGBRegressor\n",
    "\n",
    "# https://www.kaggle.com/code/jadelsoufi/bayesian-optimization-xgboost-lgbm/notebook?scriptVersionId=99389640\n",
    "params={'colsample_bytree': 0.8756732201834143,\n",
    "        'eta': 0.08537397408966756,\n",
    "        'gamma': 4.06563425414554,\n",
    "        'max_depth': 7,\n",
    "        'min_child_weight': 4}\n",
    "\n",
    "model = XGBRegressor(**params)\n",
    "\n",
    "\n",
    "# select only F4 columns\n",
    "cols_F4 = [c for c in data.columns if c.startswith('F_4_')]\n",
    "\n",
    "\n",
    "for col in tqdm(cols_F4):\n",
    "    #print(f'column:{col}\\n')\n",
    "    \n",
    "    # do in every cycle to update data with latest predictions\n",
    "    data_F4 = data_imp[cols_F4]\n",
    "    \n",
    "    #display(data_F4)\n",
    "    \n",
    "    # prepare dframes\n",
    "    train_df = data_F4[data[col].notna()]\n",
    "    test_df = data_F4[data[col].isna()]\n",
    "    \n",
    "    X_train = train_df.copy()\n",
    "    y_train = X_train.pop(col)\n",
    "    X_test = test_df.drop(col,axis=1)\n",
    "    \n",
    "#     display(X_train.columns, X_test.columns)\n",
    "    \n",
    "#     display(train_df,test_df)\n",
    "#     display(X_train,y_train,X_test)\n",
    "#     display(X_train,y_train,X_test)\n",
    "    \n",
    "    # model: train + predict\n",
    "    model.fit(X_train,y_train)\n",
    "    y = model.predict(X_test)\n",
    "    \n",
    "    # update df with new predictions\n",
    "    data_imp.loc[data[col].isna(),col] = y\n",
    "    "
   ]
  },
  {
   "cell_type": "code",
   "execution_count": 8,
   "id": "39af62f1",
   "metadata": {
    "execution": {
     "iopub.execute_input": "2022-06-29T07:26:37.833409Z",
     "iopub.status.busy": "2022-06-29T07:26:37.832666Z",
     "iopub.status.idle": "2022-06-29T07:27:03.110540Z",
     "shell.execute_reply": "2022-06-29T07:27:03.109107Z"
    },
    "papermill": {
     "duration": 25.36696,
     "end_time": "2022-06-29T07:27:03.113302",
     "exception": false,
     "start_time": "2022-06-29T07:26:37.746342",
     "status": "completed"
    },
    "tags": []
   },
   "outputs": [],
   "source": [
    "# now plug the predictions into original dataset and use mean for all variables which are still missing.\n",
    "from sklearn.impute import SimpleImputer\n",
    "\n",
    "data[cols_F4] = data_imp[cols_F4]\n",
    "\n",
    "# mean\n",
    "imp = SimpleImputer(strategy='mean')\n",
    "\n",
    "data[:] = imp.fit_transform(data)\n"
   ]
  },
  {
   "cell_type": "markdown",
   "id": "83750cfd",
   "metadata": {
    "papermill": {
     "duration": 0.084351,
     "end_time": "2022-06-29T07:27:03.284106",
     "exception": false,
     "start_time": "2022-06-29T07:27:03.199755",
     "status": "completed"
    },
    "tags": []
   },
   "source": [
    "# Submission"
   ]
  },
  {
   "cell_type": "code",
   "execution_count": 9,
   "id": "21b1aab5",
   "metadata": {
    "execution": {
     "iopub.execute_input": "2022-06-29T07:27:03.453459Z",
     "iopub.status.busy": "2022-06-29T07:27:03.452711Z",
     "iopub.status.idle": "2022-06-29T07:28:52.878462Z",
     "shell.execute_reply": "2022-06-29T07:28:52.877539Z"
    },
    "papermill": {
     "duration": 109.513231,
     "end_time": "2022-06-29T07:28:52.880975",
     "exception": false,
     "start_time": "2022-06-29T07:27:03.367744",
     "status": "completed"
    },
    "tags": []
   },
   "outputs": [
    {
     "name": "stderr",
     "output_type": "stream",
     "text": [
      "100%|██████████| 1000000/1000000 [01:46<00:00, 9410.15it/s]\n"
     ]
    }
   ],
   "source": [
    "for i in tqdm(submission.index):\n",
    "    row = int(i.split('-')[0])\n",
    "    col = i.split('-')[1]\n",
    "    submission.loc[i,'value'] = data.loc[row,col]\n",
    "    \n",
    "    \n",
    "submission.to_csv('submission.csv')"
   ]
  }
 ],
 "metadata": {
  "kernelspec": {
   "display_name": "Python 3",
   "language": "python",
   "name": "python3"
  },
  "language_info": {
   "codemirror_mode": {
    "name": "ipython",
    "version": 3
   },
   "file_extension": ".py",
   "mimetype": "text/x-python",
   "name": "python",
   "nbconvert_exporter": "python",
   "pygments_lexer": "ipython3",
   "version": "3.7.12"
  },
  "papermill": {
   "default_parameters": {},
   "duration": 3321.852883,
   "end_time": "2022-06-29T07:28:54.068638",
   "environment_variables": {},
   "exception": null,
   "input_path": "__notebook__.ipynb",
   "output_path": "__notebook__.ipynb",
   "parameters": {},
   "start_time": "2022-06-29T06:33:32.215755",
   "version": "2.3.4"
  }
 },
 "nbformat": 4,
 "nbformat_minor": 5
}
