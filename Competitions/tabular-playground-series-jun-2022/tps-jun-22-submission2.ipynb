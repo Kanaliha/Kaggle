{
 "cells": [
  {
   "cell_type": "markdown",
   "id": "8263aec1",
   "metadata": {
    "papermill": {
     "duration": 0.003541,
     "end_time": "2022-06-24T14:14:59.082998",
     "exception": false,
     "start_time": "2022-06-24T14:14:59.079457",
     "status": "completed"
    },
    "tags": []
   },
   "source": [
    "- load submission with iterative imp and reconstruct dataset with it - DONE\n",
    "\n",
    "- for col in cols with missing values (or only F2_x and F4_x ?)\n",
    "    - col is target\n",
    "    - other cols are features\n",
    "    - complete rows are for training\n",
    "    - incomplete (with missing value) are for prediction\n",
    "    - when the prediction is complete, update column values in dataset"
   ]
  },
  {
   "cell_type": "code",
   "execution_count": 1,
   "id": "a94ec81d",
   "metadata": {
    "_cell_guid": "b1076dfc-b9ad-4769-8c92-a6c4dae69d19",
    "_uuid": "8f2839f25d086af736a60e9eeb907d3b93b6e0e5",
    "execution": {
     "iopub.execute_input": "2022-06-24T14:14:59.091593Z",
     "iopub.status.busy": "2022-06-24T14:14:59.090186Z",
     "iopub.status.idle": "2022-06-24T14:14:59.105093Z",
     "shell.execute_reply": "2022-06-24T14:14:59.104294Z"
    },
    "papermill": {
     "duration": 0.021581,
     "end_time": "2022-06-24T14:14:59.107537",
     "exception": false,
     "start_time": "2022-06-24T14:14:59.085956",
     "status": "completed"
    },
    "tags": []
   },
   "outputs": [],
   "source": [
    "import numpy as np # linear algebra\n",
    "import pandas as pd # data processing, CSV file I/O (e.g. pd.read_csv)\n",
    "\n",
    "from tqdm import tqdm"
   ]
  },
  {
   "cell_type": "markdown",
   "id": "46ecf2fc",
   "metadata": {
    "papermill": {
     "duration": 0.002337,
     "end_time": "2022-06-24T14:14:59.112755",
     "exception": false,
     "start_time": "2022-06-24T14:14:59.110418",
     "status": "completed"
    },
    "tags": []
   },
   "source": [
    "# Load Data"
   ]
  },
  {
   "cell_type": "code",
   "execution_count": 2,
   "id": "efd6aff4",
   "metadata": {
    "execution": {
     "iopub.execute_input": "2022-06-24T14:14:59.120161Z",
     "iopub.status.busy": "2022-06-24T14:14:59.119008Z",
     "iopub.status.idle": "2022-06-24T14:15:20.971432Z",
     "shell.execute_reply": "2022-06-24T14:15:20.970027Z"
    },
    "papermill": {
     "duration": 21.85875,
     "end_time": "2022-06-24T14:15:20.974024",
     "exception": false,
     "start_time": "2022-06-24T14:14:59.115274",
     "status": "completed"
    },
    "tags": []
   },
   "outputs": [],
   "source": [
    "data = pd.read_csv('../input/tabular-playground-series-jun-2022/data.csv', index_col = 'row_id')\n",
    "submission = pd.read_csv('../input/tabular-playground-series-jun-2022/sample_submission.csv', index_col = 'row-col')\n",
    "sub_iter = pd.read_csv('../input/submission-iterativeimp/submission_iterative-imp.csv', index_col = 'row-col')\n",
    "\n",
    "# display(data,submission,sub_iter)"
   ]
  },
  {
   "cell_type": "code",
   "execution_count": 3,
   "id": "d97ca108",
   "metadata": {
    "execution": {
     "iopub.execute_input": "2022-06-24T14:15:20.981512Z",
     "iopub.status.busy": "2022-06-24T14:15:20.981081Z",
     "iopub.status.idle": "2022-06-24T14:17:16.304802Z",
     "shell.execute_reply": "2022-06-24T14:17:16.303594Z"
    },
    "papermill": {
     "duration": 115.331413,
     "end_time": "2022-06-24T14:17:16.308379",
     "exception": false,
     "start_time": "2022-06-24T14:15:20.976966",
     "status": "completed"
    },
    "tags": []
   },
   "outputs": [
    {
     "name": "stderr",
     "output_type": "stream",
     "text": [
      "100%|██████████| 1000000/1000000 [01:55<00:00, 8688.44it/s]\n"
     ]
    }
   ],
   "source": [
    "# use results from iterative imputation as a base for next steps -> fill values into data\n",
    "data_imp = data.copy()\n",
    "for i in tqdm(sub_iter.index):\n",
    "    row = int(i.split('-')[0])\n",
    "    col = i.split('-')[1]\n",
    "    data_imp.at[row,col] = sub_iter.loc[i]"
   ]
  },
  {
   "cell_type": "markdown",
   "id": "ea880c88",
   "metadata": {
    "papermill": {
     "duration": 0.07996,
     "end_time": "2022-06-24T14:17:16.468523",
     "exception": false,
     "start_time": "2022-06-24T14:17:16.388563",
     "status": "completed"
    },
    "tags": []
   },
   "source": [
    "# Submission"
   ]
  },
  {
   "cell_type": "code",
   "execution_count": 4,
   "id": "40a54657",
   "metadata": {
    "execution": {
     "iopub.execute_input": "2022-06-24T14:17:16.632496Z",
     "iopub.status.busy": "2022-06-24T14:17:16.632091Z",
     "iopub.status.idle": "2022-06-24T14:19:02.274567Z",
     "shell.execute_reply": "2022-06-24T14:19:02.273192Z"
    },
    "papermill": {
     "duration": 105.728859,
     "end_time": "2022-06-24T14:19:02.277350",
     "exception": false,
     "start_time": "2022-06-24T14:17:16.548491",
     "status": "completed"
    },
    "tags": []
   },
   "outputs": [
    {
     "name": "stderr",
     "output_type": "stream",
     "text": [
      "100%|██████████| 1000000/1000000 [01:42<00:00, 9735.56it/s]\n"
     ]
    }
   ],
   "source": [
    "for i in tqdm(submission.index):\n",
    "    row = int(i.split('-')[0])\n",
    "    col = i.split('-')[1]\n",
    "    submission.loc[i,'value'] = data_imp.loc[row,col]\n",
    "    \n",
    "    \n",
    "submission.to_csv('submission.csv')"
   ]
  }
 ],
 "metadata": {
  "kernelspec": {
   "display_name": "Python 3",
   "language": "python",
   "name": "python3"
  },
  "language_info": {
   "codemirror_mode": {
    "name": "ipython",
    "version": 3
   },
   "file_extension": ".py",
   "mimetype": "text/x-python",
   "name": "python",
   "nbconvert_exporter": "python",
   "pygments_lexer": "ipython3",
   "version": "3.7.12"
  },
  "papermill": {
   "default_parameters": {},
   "duration": 254.263042,
   "end_time": "2022-06-24T14:19:03.151555",
   "environment_variables": {},
   "exception": null,
   "input_path": "__notebook__.ipynb",
   "output_path": "__notebook__.ipynb",
   "parameters": {},
   "start_time": "2022-06-24T14:14:48.888513",
   "version": "2.3.4"
  }
 },
 "nbformat": 4,
 "nbformat_minor": 5
}
