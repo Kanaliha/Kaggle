{
 "cells": [
  {
   "cell_type": "markdown",
   "id": "212239a8",
   "metadata": {
    "papermill": {
     "duration": 0.006143,
     "end_time": "2022-06-27T12:37:16.805759",
     "exception": false,
     "start_time": "2022-06-27T12:37:16.799616",
     "status": "completed"
    },
    "tags": []
   },
   "source": [
    "- load submission with iterative imp and reconstruct dataset with it - DONE\n",
    "\n",
    "- for col in cols with missing values (or only F2_x and F4_x ?)\n",
    "    - col is target\n",
    "    - other cols are features\n",
    "    - complete rows are for training\n",
    "    - incomplete (with missing value) are for prediction\n",
    "    - when the prediction is complete, update column values in dataset"
   ]
  },
  {
   "cell_type": "code",
   "execution_count": 1,
   "id": "8b7e9175",
   "metadata": {
    "_cell_guid": "b1076dfc-b9ad-4769-8c92-a6c4dae69d19",
    "_uuid": "8f2839f25d086af736a60e9eeb907d3b93b6e0e5",
    "execution": {
     "iopub.execute_input": "2022-06-27T12:37:16.817238Z",
     "iopub.status.busy": "2022-06-27T12:37:16.816260Z",
     "iopub.status.idle": "2022-06-27T12:37:16.832716Z",
     "shell.execute_reply": "2022-06-27T12:37:16.831497Z"
    },
    "papermill": {
     "duration": 0.024653,
     "end_time": "2022-06-27T12:37:16.835738",
     "exception": false,
     "start_time": "2022-06-27T12:37:16.811085",
     "status": "completed"
    },
    "tags": []
   },
   "outputs": [],
   "source": [
    "import numpy as np # linear algebra\n",
    "import pandas as pd # data processing, CSV file I/O (e.g. pd.read_csv)\n",
    "\n",
    "from tqdm import tqdm"
   ]
  },
  {
   "cell_type": "markdown",
   "id": "e30e83c2",
   "metadata": {
    "papermill": {
     "duration": 0.003159,
     "end_time": "2022-06-27T12:37:16.842642",
     "exception": false,
     "start_time": "2022-06-27T12:37:16.839483",
     "status": "completed"
    },
    "tags": []
   },
   "source": [
    "# Load Data"
   ]
  },
  {
   "cell_type": "code",
   "execution_count": 2,
   "id": "736c2db9",
   "metadata": {
    "execution": {
     "iopub.execute_input": "2022-06-27T12:37:16.855554Z",
     "iopub.status.busy": "2022-06-27T12:37:16.854085Z",
     "iopub.status.idle": "2022-06-27T12:37:38.108609Z",
     "shell.execute_reply": "2022-06-27T12:37:38.107486Z"
    },
    "papermill": {
     "duration": 21.264766,
     "end_time": "2022-06-27T12:37:38.111366",
     "exception": false,
     "start_time": "2022-06-27T12:37:16.846600",
     "status": "completed"
    },
    "tags": []
   },
   "outputs": [],
   "source": [
    "data = pd.read_csv('../input/tabular-playground-series-jun-2022/data.csv', index_col = 'row_id')\n",
    "submission = pd.read_csv('../input/tabular-playground-series-jun-2022/sample_submission.csv', index_col = 'row-col')\n",
    "sub_iter = pd.read_csv('../input/submission-iterativeimp/submission_iterative-imp.csv', index_col = 'row-col')\n",
    "\n",
    "# display(data,submission,sub_iter)"
   ]
  },
  {
   "cell_type": "markdown",
   "id": "0e481de0",
   "metadata": {
    "papermill": {
     "duration": 0.002984,
     "end_time": "2022-06-27T12:37:38.117819",
     "exception": false,
     "start_time": "2022-06-27T12:37:38.114835",
     "status": "completed"
    },
    "tags": []
   },
   "source": [
    "# Apply results from Iterative Imputer"
   ]
  },
  {
   "cell_type": "code",
   "execution_count": 3,
   "id": "427d055c",
   "metadata": {
    "execution": {
     "iopub.execute_input": "2022-06-27T12:37:38.125992Z",
     "iopub.status.busy": "2022-06-27T12:37:38.125579Z",
     "iopub.status.idle": "2022-06-27T12:39:35.755863Z",
     "shell.execute_reply": "2022-06-27T12:39:35.754141Z"
    },
    "papermill": {
     "duration": 117.640501,
     "end_time": "2022-06-27T12:39:35.761530",
     "exception": false,
     "start_time": "2022-06-27T12:37:38.121029",
     "status": "completed"
    },
    "tags": []
   },
   "outputs": [
    {
     "name": "stderr",
     "output_type": "stream",
     "text": [
      "100%|██████████| 1000000/1000000 [01:57<00:00, 8517.90it/s]\n"
     ]
    }
   ],
   "source": [
    "# use results from iterative imputation as a base for next steps -> fill values into data\n",
    "data_imp = data.copy()\n",
    "for i in tqdm(sub_iter.index):\n",
    "    row = int(i.split('-')[0])\n",
    "    col = i.split('-')[1]\n",
    "    data_imp.at[row,col] = sub_iter.loc[i]"
   ]
  },
  {
   "cell_type": "markdown",
   "id": "fc6cc449",
   "metadata": {
    "papermill": {
     "duration": 0.081585,
     "end_time": "2022-06-27T12:39:35.925780",
     "exception": false,
     "start_time": "2022-06-27T12:39:35.844195",
     "status": "completed"
    },
    "tags": []
   },
   "source": [
    "# Treat cols with missing values as targets"
   ]
  },
  {
   "cell_type": "code",
   "execution_count": 4,
   "id": "89d75aba",
   "metadata": {
    "execution": {
     "iopub.execute_input": "2022-06-27T12:39:36.097190Z",
     "iopub.status.busy": "2022-06-27T12:39:36.096350Z",
     "iopub.status.idle": "2022-06-27T15:45:59.583079Z",
     "shell.execute_reply": "2022-06-27T15:45:59.581043Z"
    },
    "papermill": {
     "duration": 11183.666354,
     "end_time": "2022-06-27T15:45:59.675415",
     "exception": false,
     "start_time": "2022-06-27T12:39:36.009061",
     "status": "completed"
    },
    "tags": []
   },
   "outputs": [
    {
     "data": {
      "text/plain": [
       "['F_4_0',\n",
       " 'F_4_1',\n",
       " 'F_4_2',\n",
       " 'F_4_3',\n",
       " 'F_4_4',\n",
       " 'F_4_5',\n",
       " 'F_4_6',\n",
       " 'F_4_7',\n",
       " 'F_4_8',\n",
       " 'F_4_9',\n",
       " 'F_4_10',\n",
       " 'F_4_11',\n",
       " 'F_4_12',\n",
       " 'F_4_13',\n",
       " 'F_4_14']"
      ]
     },
     "metadata": {},
     "output_type": "display_data"
    },
    {
     "name": "stdout",
     "output_type": "stream",
     "text": [
      "CPU times: user 12h 39s, sys: 56.2 s, total: 12h 1min 35s\n",
      "Wall time: 3h 6min 23s\n"
     ]
    }
   ],
   "source": [
    "%%time\n",
    " \n",
    "from xgboost import XGBRegressor\n",
    "\n",
    "model = XGBRegressor()\n",
    "\n",
    "cols = data.columns[data.isnull().any()]\n",
    "# start just with colums F_4_X\n",
    "cols = [c for c in cols if c.startswith('F_4_')]\n",
    "display(cols)\n",
    "#display(data_imp['F_4_5'])\n",
    "\n",
    "for col in cols:\n",
    "    # prepare dframes\n",
    "    train_df = data_imp[data[col].notna()]\n",
    "    test_df = data_imp[data[col].isna()]\n",
    "    \n",
    "    X_train = train_df.copy()\n",
    "    y_train = X_train.pop(col)\n",
    "    X_test = test_df.drop(col,axis=1)\n",
    "    \n",
    "#     display(X_train.columns, X_test.columns)\n",
    "    \n",
    "#     display(train_df,test_df)\n",
    "#     display(X_train,y_train,X_test)\n",
    "#     display(X_train,y_train,X_test)\n",
    "    \n",
    "    # model: train + predict\n",
    "    model.fit(X_train,y_train)\n",
    "    y = model.predict(X_test)\n",
    "    \n",
    "    # update df with new predictions\n",
    "    data_imp.loc[data[col].isna(),col] = y\n",
    "    \n",
    "# display(data_imp['F_4_5'])"
   ]
  },
  {
   "cell_type": "markdown",
   "id": "2321b9e2",
   "metadata": {
    "papermill": {
     "duration": 0.083779,
     "end_time": "2022-06-27T15:45:59.841157",
     "exception": false,
     "start_time": "2022-06-27T15:45:59.757378",
     "status": "completed"
    },
    "tags": []
   },
   "source": [
    "# Submission"
   ]
  },
  {
   "cell_type": "code",
   "execution_count": 5,
   "id": "1c3ca42e",
   "metadata": {
    "execution": {
     "iopub.execute_input": "2022-06-27T15:46:00.008478Z",
     "iopub.status.busy": "2022-06-27T15:46:00.008006Z",
     "iopub.status.idle": "2022-06-27T15:47:46.070626Z",
     "shell.execute_reply": "2022-06-27T15:47:46.069526Z"
    },
    "papermill": {
     "duration": 106.15034,
     "end_time": "2022-06-27T15:47:46.073547",
     "exception": false,
     "start_time": "2022-06-27T15:45:59.923207",
     "status": "completed"
    },
    "tags": []
   },
   "outputs": [
    {
     "name": "stderr",
     "output_type": "stream",
     "text": [
      "100%|██████████| 1000000/1000000 [01:43<00:00, 9702.81it/s]\n"
     ]
    }
   ],
   "source": [
    "for i in tqdm(submission.index):\n",
    "    row = int(i.split('-')[0])\n",
    "    col = i.split('-')[1]\n",
    "    submission.loc[i,'value'] = data_imp.loc[row,col]\n",
    "    \n",
    "    \n",
    "submission.to_csv('submission.csv')"
   ]
  }
 ],
 "metadata": {
  "kernelspec": {
   "display_name": "Python 3",
   "language": "python",
   "name": "python3"
  },
  "language_info": {
   "codemirror_mode": {
    "name": "ipython",
    "version": 3
   },
   "file_extension": ".py",
   "mimetype": "text/x-python",
   "name": "python",
   "nbconvert_exporter": "python",
   "pygments_lexer": "ipython3",
   "version": "3.7.12"
  },
  "papermill": {
   "default_parameters": {},
   "duration": 11440.847584,
   "end_time": "2022-06-27T15:47:47.578745",
   "environment_variables": {},
   "exception": null,
   "input_path": "__notebook__.ipynb",
   "output_path": "__notebook__.ipynb",
   "parameters": {},
   "start_time": "2022-06-27T12:37:06.731161",
   "version": "2.3.4"
  }
 },
 "nbformat": 4,
 "nbformat_minor": 5
}
