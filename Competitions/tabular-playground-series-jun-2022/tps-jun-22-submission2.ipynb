{
 "cells": [
  {
   "cell_type": "markdown",
   "id": "61b31d75",
   "metadata": {
    "papermill": {
     "duration": 0.003518,
     "end_time": "2022-06-28T06:13:48.730243",
     "exception": false,
     "start_time": "2022-06-28T06:13:48.726725",
     "status": "completed"
    },
    "tags": []
   },
   "source": [
    "- load submission with iterative imp and reconstruct dataset with it - DONE\n",
    "\n",
    "- for col in cols with missing values (or only F2_x and F4_x ?)\n",
    "    - col is target\n",
    "    - other cols are features\n",
    "    - complete rows are for training\n",
    "    - incomplete (with missing value) are for prediction\n",
    "    - when the prediction is complete, update column values in dataset"
   ]
  },
  {
   "cell_type": "code",
   "execution_count": 1,
   "id": "add0c4a6",
   "metadata": {
    "_cell_guid": "b1076dfc-b9ad-4769-8c92-a6c4dae69d19",
    "_uuid": "8f2839f25d086af736a60e9eeb907d3b93b6e0e5",
    "execution": {
     "iopub.execute_input": "2022-06-28T06:13:48.738055Z",
     "iopub.status.busy": "2022-06-28T06:13:48.737290Z",
     "iopub.status.idle": "2022-06-28T06:13:48.747748Z",
     "shell.execute_reply": "2022-06-28T06:13:48.746793Z"
    },
    "papermill": {
     "duration": 0.017182,
     "end_time": "2022-06-28T06:13:48.750334",
     "exception": false,
     "start_time": "2022-06-28T06:13:48.733152",
     "status": "completed"
    },
    "tags": []
   },
   "outputs": [],
   "source": [
    "import numpy as np # linear algebra\n",
    "import pandas as pd # data processing, CSV file I/O (e.g. pd.read_csv)\n",
    "\n",
    "from tqdm import tqdm"
   ]
  },
  {
   "cell_type": "markdown",
   "id": "6100e5f7",
   "metadata": {
    "papermill": {
     "duration": 0.00251,
     "end_time": "2022-06-28T06:13:48.755757",
     "exception": false,
     "start_time": "2022-06-28T06:13:48.753247",
     "status": "completed"
    },
    "tags": []
   },
   "source": [
    "# Load Data"
   ]
  },
  {
   "cell_type": "code",
   "execution_count": 2,
   "id": "eab7939f",
   "metadata": {
    "execution": {
     "iopub.execute_input": "2022-06-28T06:13:48.763120Z",
     "iopub.status.busy": "2022-06-28T06:13:48.762451Z",
     "iopub.status.idle": "2022-06-28T06:14:09.686076Z",
     "shell.execute_reply": "2022-06-28T06:14:09.685241Z"
    },
    "papermill": {
     "duration": 20.930215,
     "end_time": "2022-06-28T06:14:09.688585",
     "exception": false,
     "start_time": "2022-06-28T06:13:48.758370",
     "status": "completed"
    },
    "tags": []
   },
   "outputs": [],
   "source": [
    "data = pd.read_csv('../input/tabular-playground-series-jun-2022/data.csv', index_col = 'row_id')\n",
    "submission = pd.read_csv('../input/tabular-playground-series-jun-2022/sample_submission.csv', index_col = 'row-col')\n",
    "#sub_iter = pd.read_csv('../input/submission-iterativeimp/submission_iterative-imp.csv', index_col = 'row-col')\n",
    "sub_iter = pd.read_csv('../input/submission-iterF4/submission_iterativeF_4.csv', index_col = 'row-col')\n",
    "\n",
    "# display(data,submission,sub_iter)"
   ]
  },
  {
   "cell_type": "markdown",
   "id": "e471b0bf",
   "metadata": {
    "papermill": {
     "duration": 0.002261,
     "end_time": "2022-06-28T06:14:09.693571",
     "exception": false,
     "start_time": "2022-06-28T06:14:09.691310",
     "status": "completed"
    },
    "tags": []
   },
   "source": [
    "# Apply results from Iterative Imputer"
   ]
  },
  {
   "cell_type": "code",
   "execution_count": 3,
   "id": "fc938602",
   "metadata": {
    "execution": {
     "iopub.execute_input": "2022-06-28T06:14:09.700868Z",
     "iopub.status.busy": "2022-06-28T06:14:09.699858Z",
     "iopub.status.idle": "2022-06-28T06:15:52.194454Z",
     "shell.execute_reply": "2022-06-28T06:15:52.192423Z"
    },
    "papermill": {
     "duration": 102.502113,
     "end_time": "2022-06-28T06:15:52.198212",
     "exception": false,
     "start_time": "2022-06-28T06:14:09.696099",
     "status": "completed"
    },
    "tags": []
   },
   "outputs": [
    {
     "name": "stderr",
     "output_type": "stream",
     "text": [
      "100%|██████████| 1000000/1000000 [01:42<00:00, 9782.72it/s]\n"
     ]
    }
   ],
   "source": [
    "# use results from iterative imputation as a base for next steps -> fill values into data\n",
    "data_imp = data.copy()\n",
    "for i in tqdm(sub_iter.index):\n",
    "    row = int(i.split('-')[0])\n",
    "    col = i.split('-')[1]\n",
    "    data_imp.at[row,col] = sub_iter.loc[i]"
   ]
  },
  {
   "cell_type": "markdown",
   "id": "4cab5004",
   "metadata": {
    "papermill": {
     "duration": 0.050248,
     "end_time": "2022-06-28T06:15:52.297974",
     "exception": false,
     "start_time": "2022-06-28T06:15:52.247726",
     "status": "completed"
    },
    "tags": []
   },
   "source": [
    "# Treat cols with missing values as targets"
   ]
  },
  {
   "cell_type": "code",
   "execution_count": 4,
   "id": "50b145e7",
   "metadata": {
    "execution": {
     "iopub.execute_input": "2022-06-28T06:15:52.398894Z",
     "iopub.status.busy": "2022-06-28T06:15:52.398079Z",
     "iopub.status.idle": "2022-06-28T09:25:07.063724Z",
     "shell.execute_reply": "2022-06-28T09:25:07.062335Z"
    },
    "papermill": {
     "duration": 11354.773204,
     "end_time": "2022-06-28T09:25:07.120220",
     "exception": false,
     "start_time": "2022-06-28T06:15:52.347016",
     "status": "completed"
    },
    "tags": []
   },
   "outputs": [
    {
     "data": {
      "text/plain": [
       "['F_1_0',\n",
       " 'F_1_1',\n",
       " 'F_1_2',\n",
       " 'F_1_3',\n",
       " 'F_1_4',\n",
       " 'F_1_5',\n",
       " 'F_1_6',\n",
       " 'F_1_7',\n",
       " 'F_1_8',\n",
       " 'F_1_9',\n",
       " 'F_1_10',\n",
       " 'F_1_11',\n",
       " 'F_1_12',\n",
       " 'F_1_13',\n",
       " 'F_1_14']"
      ]
     },
     "metadata": {},
     "output_type": "display_data"
    },
    {
     "name": "stderr",
     "output_type": "stream",
     "text": [
      "100%|██████████| 15/15 [3:09:13<00:00, 756.87s/it]"
     ]
    },
    {
     "name": "stdout",
     "output_type": "stream",
     "text": [
      "CPU times: user 12h 16min 35s, sys: 51.4 s, total: 12h 17min 26s\n",
      "Wall time: 3h 9min 14s\n"
     ]
    },
    {
     "name": "stderr",
     "output_type": "stream",
     "text": [
      "\n"
     ]
    }
   ],
   "source": [
    "%%time\n",
    " \n",
    "from xgboost import XGBRegressor\n",
    "\n",
    "model = XGBRegressor()\n",
    "\n",
    "cols = data.columns[data.isnull().any()]\n",
    "# start just with colums F_1_X\n",
    "cols = [c for c in cols if c.startswith('F_1_')]\n",
    "display(cols)\n",
    "\n",
    "for col in tqdm(cols):\n",
    "    # prepare dframes\n",
    "    train_df = data_imp[data[col].notna()]\n",
    "    test_df = data_imp[data[col].isna()]\n",
    "    \n",
    "    X_train = train_df.copy()\n",
    "    y_train = X_train.pop(col)\n",
    "    X_test = test_df.drop(col,axis=1)\n",
    "    \n",
    "#     display(X_train.columns, X_test.columns)\n",
    "    \n",
    "#     display(train_df,test_df)\n",
    "#     display(X_train,y_train,X_test)\n",
    "#     display(X_train,y_train,X_test)\n",
    "    \n",
    "    # model: train + predict\n",
    "    model.fit(X_train,y_train)\n",
    "    y = model.predict(X_test)\n",
    "    \n",
    "    # update df with new predictions\n",
    "    data_imp.loc[data[col].isna(),col] = y\n",
    "    "
   ]
  },
  {
   "cell_type": "markdown",
   "id": "e8d10427",
   "metadata": {
    "papermill": {
     "duration": 0.050754,
     "end_time": "2022-06-28T09:25:07.222266",
     "exception": false,
     "start_time": "2022-06-28T09:25:07.171512",
     "status": "completed"
    },
    "tags": []
   },
   "source": [
    "# Submission"
   ]
  },
  {
   "cell_type": "code",
   "execution_count": 5,
   "id": "55af6e97",
   "metadata": {
    "execution": {
     "iopub.execute_input": "2022-06-28T09:25:07.327690Z",
     "iopub.status.busy": "2022-06-28T09:25:07.326574Z",
     "iopub.status.idle": "2022-06-28T09:26:34.509066Z",
     "shell.execute_reply": "2022-06-28T09:26:34.507618Z"
    },
    "papermill": {
     "duration": 87.238429,
     "end_time": "2022-06-28T09:26:34.511927",
     "exception": false,
     "start_time": "2022-06-28T09:25:07.273498",
     "status": "completed"
    },
    "tags": []
   },
   "outputs": [
    {
     "name": "stderr",
     "output_type": "stream",
     "text": [
      "100%|██████████| 1000000/1000000 [01:25<00:00, 11742.24it/s]\n"
     ]
    }
   ],
   "source": [
    "for i in tqdm(submission.index):\n",
    "    row = int(i.split('-')[0])\n",
    "    col = i.split('-')[1]\n",
    "    submission.loc[i,'value'] = data_imp.loc[row,col]\n",
    "    \n",
    "    \n",
    "submission.to_csv('submission.csv')"
   ]
  }
 ],
 "metadata": {
  "kernelspec": {
   "display_name": "Python 3",
   "language": "python",
   "name": "python3"
  },
  "language_info": {
   "codemirror_mode": {
    "name": "ipython",
    "version": 3
   },
   "file_extension": ".py",
   "mimetype": "text/x-python",
   "name": "python",
   "nbconvert_exporter": "python",
   "pygments_lexer": "ipython3",
   "version": "3.7.12"
  },
  "papermill": {
   "default_parameters": {},
   "duration": 11576.968603,
   "end_time": "2022-06-28T09:26:35.848557",
   "environment_variables": {},
   "exception": null,
   "input_path": "__notebook__.ipynb",
   "output_path": "__notebook__.ipynb",
   "parameters": {},
   "start_time": "2022-06-28T06:13:38.879954",
   "version": "2.3.4"
  }
 },
 "nbformat": 4,
 "nbformat_minor": 5
}
