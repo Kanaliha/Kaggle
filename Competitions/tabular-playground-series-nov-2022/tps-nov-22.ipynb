{
 "cells": [
  {
   "cell_type": "code",
   "execution_count": 1,
   "id": "3979e9d0",
   "metadata": {
    "_cell_guid": "b1076dfc-b9ad-4769-8c92-a6c4dae69d19",
    "_uuid": "8f2839f25d086af736a60e9eeb907d3b93b6e0e5",
    "execution": {
     "iopub.execute_input": "2022-11-06T20:21:29.035224Z",
     "iopub.status.busy": "2022-11-06T20:21:29.034347Z",
     "iopub.status.idle": "2022-11-06T20:21:29.046946Z",
     "shell.execute_reply": "2022-11-06T20:21:29.045758Z"
    },
    "papermill": {
     "duration": 0.021681,
     "end_time": "2022-11-06T20:21:29.050302",
     "exception": false,
     "start_time": "2022-11-06T20:21:29.028621",
     "status": "completed"
    },
    "tags": []
   },
   "outputs": [],
   "source": [
    "import numpy as np # linear algebra\n",
    "import pandas as pd # data processing, CSV file I/O (e.g. pd.read_csv)\n",
    "\n",
    "import os\n",
    "from pathlib import Path\n",
    "path = Path('/kaggle/input/tabular-playground-series-nov-2022/')"
   ]
  },
  {
   "cell_type": "code",
   "execution_count": 2,
   "id": "dc9d965d",
   "metadata": {
    "execution": {
     "iopub.execute_input": "2022-11-06T20:21:29.057019Z",
     "iopub.status.busy": "2022-11-06T20:21:29.056347Z",
     "iopub.status.idle": "2022-11-06T20:21:29.121032Z",
     "shell.execute_reply": "2022-11-06T20:21:29.119521Z"
    },
    "papermill": {
     "duration": 0.071498,
     "end_time": "2022-11-06T20:21:29.124314",
     "exception": false,
     "start_time": "2022-11-06T20:21:29.052816",
     "status": "completed"
    },
    "tags": []
   },
   "outputs": [
    {
     "data": {
      "text/html": [
       "<div>\n",
       "<style scoped>\n",
       "    .dataframe tbody tr th:only-of-type {\n",
       "        vertical-align: middle;\n",
       "    }\n",
       "\n",
       "    .dataframe tbody tr th {\n",
       "        vertical-align: top;\n",
       "    }\n",
       "\n",
       "    .dataframe thead th {\n",
       "        text-align: right;\n",
       "    }\n",
       "</style>\n",
       "<table border=\"1\" class=\"dataframe\">\n",
       "  <thead>\n",
       "    <tr style=\"text-align: right;\">\n",
       "      <th></th>\n",
       "      <th>pred</th>\n",
       "    </tr>\n",
       "    <tr>\n",
       "      <th>id</th>\n",
       "      <th></th>\n",
       "    </tr>\n",
       "  </thead>\n",
       "  <tbody>\n",
       "    <tr>\n",
       "      <th>20000</th>\n",
       "      <td>0.640707</td>\n",
       "    </tr>\n",
       "    <tr>\n",
       "      <th>20001</th>\n",
       "      <td>0.636904</td>\n",
       "    </tr>\n",
       "    <tr>\n",
       "      <th>20002</th>\n",
       "      <td>0.392496</td>\n",
       "    </tr>\n",
       "    <tr>\n",
       "      <th>20003</th>\n",
       "      <td>0.588658</td>\n",
       "    </tr>\n",
       "    <tr>\n",
       "      <th>20004</th>\n",
       "      <td>0.783603</td>\n",
       "    </tr>\n",
       "    <tr>\n",
       "      <th>...</th>\n",
       "      <td>...</td>\n",
       "    </tr>\n",
       "    <tr>\n",
       "      <th>39995</th>\n",
       "      <td>0.382515</td>\n",
       "    </tr>\n",
       "    <tr>\n",
       "      <th>39996</th>\n",
       "      <td>0.352498</td>\n",
       "    </tr>\n",
       "    <tr>\n",
       "      <th>39997</th>\n",
       "      <td>0.577554</td>\n",
       "    </tr>\n",
       "    <tr>\n",
       "      <th>39998</th>\n",
       "      <td>0.712353</td>\n",
       "    </tr>\n",
       "    <tr>\n",
       "      <th>39999</th>\n",
       "      <td>0.483215</td>\n",
       "    </tr>\n",
       "  </tbody>\n",
       "</table>\n",
       "<p>20000 rows × 1 columns</p>\n",
       "</div>"
      ],
      "text/plain": [
       "           pred\n",
       "id             \n",
       "20000  0.640707\n",
       "20001  0.636904\n",
       "20002  0.392496\n",
       "20003  0.588658\n",
       "20004  0.783603\n",
       "...         ...\n",
       "39995  0.382515\n",
       "39996  0.352498\n",
       "39997  0.577554\n",
       "39998  0.712353\n",
       "39999  0.483215\n",
       "\n",
       "[20000 rows x 1 columns]"
      ]
     },
     "execution_count": 2,
     "metadata": {},
     "output_type": "execute_result"
    }
   ],
   "source": [
    "sample_submission = pd.read_csv(path / 'sample_submission.csv',index_col='id')\n",
    "\n",
    "sample_submission"
   ]
  },
  {
   "cell_type": "code",
   "execution_count": 3,
   "id": "9995a068",
   "metadata": {
    "execution": {
     "iopub.execute_input": "2022-11-06T20:21:29.131054Z",
     "iopub.status.busy": "2022-11-06T20:21:29.130567Z",
     "iopub.status.idle": "2022-11-06T20:21:29.180137Z",
     "shell.execute_reply": "2022-11-06T20:21:29.178833Z"
    },
    "papermill": {
     "duration": 0.056755,
     "end_time": "2022-11-06T20:21:29.183605",
     "exception": false,
     "start_time": "2022-11-06T20:21:29.126850",
     "status": "completed"
    },
    "tags": []
   },
   "outputs": [],
   "source": [
    "# submit sample\n",
    "sample_submission.to_csv('submission.csv')"
   ]
  },
  {
   "cell_type": "code",
   "execution_count": null,
   "id": "b3efb686",
   "metadata": {
    "papermill": {
     "duration": 0.002111,
     "end_time": "2022-11-06T20:21:29.188387",
     "exception": false,
     "start_time": "2022-11-06T20:21:29.186276",
     "status": "completed"
    },
    "tags": []
   },
   "outputs": [],
   "source": []
  }
 ],
 "metadata": {
  "kernelspec": {
   "display_name": "Python 3",
   "language": "python",
   "name": "python3"
  },
  "language_info": {
   "codemirror_mode": {
    "name": "ipython",
    "version": 3
   },
   "file_extension": ".py",
   "mimetype": "text/x-python",
   "name": "python",
   "nbconvert_exporter": "python",
   "pygments_lexer": "ipython3",
   "version": "3.7.12"
  },
  "papermill": {
   "default_parameters": {},
   "duration": 10.685271,
   "end_time": "2022-11-06T20:21:30.219403",
   "environment_variables": {},
   "exception": null,
   "input_path": "__notebook__.ipynb",
   "output_path": "__notebook__.ipynb",
   "parameters": {},
   "start_time": "2022-11-06T20:21:19.534132",
   "version": "2.3.4"
  }
 },
 "nbformat": 4,
 "nbformat_minor": 5
}
