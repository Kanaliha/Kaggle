{
 "cells": [
  {
   "cell_type": "code",
   "execution_count": 1,
   "id": "758d6354",
   "metadata": {
    "execution": {
     "iopub.execute_input": "2025-04-04T10:51:04.749678Z",
     "iopub.status.busy": "2025-04-04T10:51:04.749175Z",
     "iopub.status.idle": "2025-04-04T10:51:04.753754Z",
     "shell.execute_reply": "2025-04-04T10:51:04.753115Z"
    },
    "papermill": {
     "duration": 0.009783,
     "end_time": "2025-04-04T10:51:04.755008",
     "exception": false,
     "start_time": "2025-04-04T10:51:04.745225",
     "status": "completed"
    },
    "tags": []
   },
   "outputs": [],
   "source": [
    "#| default_exp core"
   ]
  },
  {
   "cell_type": "code",
   "execution_count": 2,
   "id": "b63e42da",
   "metadata": {
    "execution": {
     "iopub.execute_input": "2025-04-04T10:51:04.760814Z",
     "iopub.status.busy": "2025-04-04T10:51:04.760606Z",
     "iopub.status.idle": "2025-04-04T10:51:07.766371Z",
     "shell.execute_reply": "2025-04-04T10:51:07.765400Z"
    },
    "papermill": {
     "duration": 3.010361,
     "end_time": "2025-04-04T10:51:07.768051",
     "exception": false,
     "start_time": "2025-04-04T10:51:04.757690",
     "status": "completed"
    },
    "tags": []
   },
   "outputs": [],
   "source": [
    "import kagglehub\n",
    "import pandas as pd\n",
    "import seaborn as sns\n",
    "from IPython.display import SVG\n",
    "\n",
    "\n",
    "train_df = pd.read_csv('/kaggle/input/drawing-with-llms/train.csv', index_col = 'id')\n",
    "questions_df = pd.read_parquet('/kaggle/input/drawing-with-llms/questions.parquet')\n",
    "questions_df.set_index('id', inplace=True)\n",
    "\n",
    "# display(train_df.head(2))\n",
    "# display(questions_df.head(2))\n"
   ]
  },
  {
   "cell_type": "code",
   "execution_count": 3,
   "id": "ffbd513c",
   "metadata": {
    "execution": {
     "iopub.execute_input": "2025-04-04T10:51:07.773976Z",
     "iopub.status.busy": "2025-04-04T10:51:07.773634Z",
     "iopub.status.idle": "2025-04-04T10:51:07.777621Z",
     "shell.execute_reply": "2025-04-04T10:51:07.776834Z"
    },
    "papermill": {
     "duration": 0.008216,
     "end_time": "2025-04-04T10:51:07.778858",
     "exception": false,
     "start_time": "2025-04-04T10:51:07.770642",
     "status": "completed"
    },
    "tags": []
   },
   "outputs": [],
   "source": [
    "#| export\n",
    "\n",
    "class Model:\n",
    "    def __init__(self):\n",
    "        pass\n",
    "\n",
    "    def predict(self, prompt: str) -> str:\n",
    "        return \"\"\"<svg width=\"210\" height=\"210\" xmlns=\"http://www.w3.org/2000/svg\">\n",
    "<rect x=\"44\" y=\"57\" width=\"23\" height=\"38\" fill=\"yellow\" transform=\"rotate(215, 55.5, 76.0)\" />\n",
    "<circle cx=\"155\" cy=\"115\" r=\"15\" fill=\"pink\" />\n",
    "<ellipse cx=\"188\" cy=\"65\" rx=\"18\" ry=\"46\" fill=\"cyan\" transform=\"rotate(261, 188, 65)\" />\n",
    "<polygon points=\"120,197 189,31 16,133\" fill=\"red\" />\n",
    "</svg>\"\"\""
   ]
  },
  {
   "cell_type": "code",
   "execution_count": 4,
   "id": "b869131f",
   "metadata": {
    "execution": {
     "iopub.execute_input": "2025-04-04T10:51:07.784237Z",
     "iopub.status.busy": "2025-04-04T10:51:07.784042Z",
     "iopub.status.idle": "2025-04-04T10:51:09.068353Z",
     "shell.execute_reply": "2025-04-04T10:51:09.067338Z"
    },
    "papermill": {
     "duration": 1.288482,
     "end_time": "2025-04-04T10:51:09.069833",
     "exception": false,
     "start_time": "2025-04-04T10:51:07.781351",
     "status": "completed"
    },
    "tags": []
   },
   "outputs": [
    {
     "name": "stdout",
     "output_type": "stream",
     "text": [
      "Creating Model instance...\n",
      "Running inference tests...\n",
      "Wrote test submission file to \"/tmp/kaggle-evaluation-submission-0c2tcnr2.csv\".\n",
      "Success!\n"
     ]
    }
   ],
   "source": [
    "import kaggle_evaluation\n",
    "\n",
    "kaggle_evaluation.test(Model)"
   ]
  },
  {
   "cell_type": "markdown",
   "id": "e81fff6f",
   "metadata": {
    "papermill": {
     "duration": 0.002355,
     "end_time": "2025-04-04T10:51:09.074933",
     "exception": false,
     "start_time": "2025-04-04T10:51:09.072578",
     "status": "completed"
    },
    "tags": []
   },
   "source": [
    "## Evaluate"
   ]
  },
  {
   "cell_type": "code",
   "execution_count": 5,
   "id": "92278e13",
   "metadata": {
    "execution": {
     "iopub.execute_input": "2025-04-04T10:51:09.080604Z",
     "iopub.status.busy": "2025-04-04T10:51:09.080197Z",
     "iopub.status.idle": "2025-04-04T10:51:09.083736Z",
     "shell.execute_reply": "2025-04-04T10:51:09.082894Z"
    },
    "papermill": {
     "duration": 0.007583,
     "end_time": "2025-04-04T10:51:09.084878",
     "exception": false,
     "start_time": "2025-04-04T10:51:09.077295",
     "status": "completed"
    },
    "tags": []
   },
   "outputs": [],
   "source": [
    "model = Model()"
   ]
  },
  {
   "cell_type": "code",
   "execution_count": 6,
   "id": "3080d928",
   "metadata": {
    "execution": {
     "iopub.execute_input": "2025-04-04T10:51:09.090358Z",
     "iopub.status.busy": "2025-04-04T10:51:09.090156Z",
     "iopub.status.idle": "2025-04-04T10:53:51.416590Z",
     "shell.execute_reply": "2025-04-04T10:53:51.415855Z"
    },
    "papermill": {
     "duration": 162.330958,
     "end_time": "2025-04-04T10:53:51.418208",
     "exception": false,
     "start_time": "2025-04-04T10:51:09.087250",
     "status": "completed"
    },
    "tags": []
   },
   "outputs": [
    {
     "name": "stdout",
     "output_type": "stream",
     "text": [
      "Installing python dependencies for Package 'kagglehub_package_jiazhuang_svg_image_fidelity_12', logging progress to '/tmp/kagglehub-package-dependencies-install-fx7hgkx_.txt'.\n"
     ]
    },
    {
     "data": {
      "application/vnd.jupyter.widget-view+json": {
       "model_id": "7ef14155ff4949b7beaac528c5f53e01",
       "version_major": 2,
       "version_minor": 0
      },
      "text/plain": [
       "Loading checkpoint shards:   0%|          | 0/4 [00:00<?, ?it/s]"
      ]
     },
     "metadata": {},
     "output_type": "display_data"
    }
   ],
   "source": [
    "# https://www.kaggle.com/code/jiazhuang/svg-image-fidelity\n",
    "metric = kagglehub.package_import('jiazhuang/svg-image-fidelity')"
   ]
  },
  {
   "cell_type": "code",
   "execution_count": 7,
   "id": "4b218671",
   "metadata": {
    "execution": {
     "iopub.execute_input": "2025-04-04T10:53:51.431357Z",
     "iopub.status.busy": "2025-04-04T10:53:51.430835Z",
     "iopub.status.idle": "2025-04-04T10:55:56.962265Z",
     "shell.execute_reply": "2025-04-04T10:55:56.961289Z"
    },
    "papermill": {
     "duration": 125.536319,
     "end_time": "2025-04-04T10:55:56.963706",
     "exception": false,
     "start_time": "2025-04-04T10:53:51.427387",
     "status": "completed"
    },
    "tags": []
   },
   "outputs": [
    {
     "name": "stdout",
     "output_type": "stream",
     "text": [
      "a purple forest at dusk\n"
     ]
    },
    {
     "data": {
      "image/svg+xml": [
       "<svg xmlns=\"http://www.w3.org/2000/svg\" width=\"210\" height=\"210\">\n",
       "<rect x=\"44\" y=\"57\" width=\"23\" height=\"38\" fill=\"yellow\" transform=\"rotate(215, 55.5, 76.0)\"/>\n",
       "<circle cx=\"155\" cy=\"115\" r=\"15\" fill=\"pink\"/>\n",
       "<ellipse cx=\"188\" cy=\"65\" rx=\"18\" ry=\"46\" fill=\"cyan\" transform=\"rotate(261, 188, 65)\"/>\n",
       "<polygon points=\"120,197 189,31 16,133\" fill=\"red\"/>\n",
       "</svg>"
      ],
      "text/plain": [
       "<IPython.core.display.SVG object>"
      ]
     },
     "metadata": {},
     "output_type": "display_data"
    },
    {
     "name": "stderr",
     "output_type": "stream",
     "text": [
      "The 'batch_size' argument of HybridCache is deprecated and will be removed in v4.49. Use the more precisely named 'max_batch_size' argument instead.\n",
      "The 'batch_size' attribute of HybridCache is deprecated and will be removed in v4.49. Use the more precisely named 'self.max_batch_size' attribute instead.\n"
     ]
    },
    {
     "name": "stdout",
     "output_type": "stream",
     "text": [
      "{'competition_score': 0.18562136133915144, 'vqa_score': 0.16261265934263633, 'ocr_score': 1.0, 'aesthetic_score': 0.4276750087738037}\n",
      "-----\n",
      "gray wool coat with a faux fur collar\n"
     ]
    },
    {
     "data": {
      "image/svg+xml": [
       "<svg xmlns=\"http://www.w3.org/2000/svg\" width=\"210\" height=\"210\">\n",
       "<rect x=\"44\" y=\"57\" width=\"23\" height=\"38\" fill=\"yellow\" transform=\"rotate(215, 55.5, 76.0)\"/>\n",
       "<circle cx=\"155\" cy=\"115\" r=\"15\" fill=\"pink\"/>\n",
       "<ellipse cx=\"188\" cy=\"65\" rx=\"18\" ry=\"46\" fill=\"cyan\" transform=\"rotate(261, 188, 65)\"/>\n",
       "<polygon points=\"120,197 189,31 16,133\" fill=\"red\"/>\n",
       "</svg>"
      ],
      "text/plain": [
       "<IPython.core.display.SVG object>"
      ]
     },
     "metadata": {},
     "output_type": "display_data"
    },
    {
     "name": "stdout",
     "output_type": "stream",
     "text": [
      "{'competition_score': 0.6466868678402216, 'vqa_score': 0.7416343879959296, 'ocr_score': 1.0, 'aesthetic_score': 0.4276750087738037}\n",
      "-----\n",
      "a lighthouse overlooking the ocean\n"
     ]
    },
    {
     "data": {
      "image/svg+xml": [
       "<svg xmlns=\"http://www.w3.org/2000/svg\" width=\"210\" height=\"210\">\n",
       "<rect x=\"44\" y=\"57\" width=\"23\" height=\"38\" fill=\"yellow\" transform=\"rotate(215, 55.5, 76.0)\"/>\n",
       "<circle cx=\"155\" cy=\"115\" r=\"15\" fill=\"pink\"/>\n",
       "<ellipse cx=\"188\" cy=\"65\" rx=\"18\" ry=\"46\" fill=\"cyan\" transform=\"rotate(261, 188, 65)\"/>\n",
       "<polygon points=\"120,197 189,31 16,133\" fill=\"red\"/>\n",
       "</svg>"
      ],
      "text/plain": [
       "<IPython.core.display.SVG object>"
      ]
     },
     "metadata": {},
     "output_type": "display_data"
    },
    {
     "name": "stdout",
     "output_type": "stream",
     "text": [
      "{'competition_score': 0.7398025024864402, 'vqa_score': 0.9049084902782192, 'ocr_score': 1.0, 'aesthetic_score': 0.4276750087738037}\n",
      "-----\n",
      "burgundy corduroy pants with patch pockets and silver buttons\n"
     ]
    },
    {
     "data": {
      "image/svg+xml": [
       "<svg xmlns=\"http://www.w3.org/2000/svg\" width=\"210\" height=\"210\">\n",
       "<rect x=\"44\" y=\"57\" width=\"23\" height=\"38\" fill=\"yellow\" transform=\"rotate(215, 55.5, 76.0)\"/>\n",
       "<circle cx=\"155\" cy=\"115\" r=\"15\" fill=\"pink\"/>\n",
       "<ellipse cx=\"188\" cy=\"65\" rx=\"18\" ry=\"46\" fill=\"cyan\" transform=\"rotate(261, 188, 65)\"/>\n",
       "<polygon points=\"120,197 189,31 16,133\" fill=\"red\"/>\n",
       "</svg>"
      ],
      "text/plain": [
       "<IPython.core.display.SVG object>"
      ]
     },
     "metadata": {},
     "output_type": "display_data"
    },
    {
     "name": "stdout",
     "output_type": "stream",
     "text": [
      "{'competition_score': 0.23373789344745477, 'vqa_score': 0.209937846920155, 'ocr_score': 1.0, 'aesthetic_score': 0.4276750087738037}\n",
      "-----\n",
      "orange corduroy overalls\n"
     ]
    },
    {
     "data": {
      "image/svg+xml": [
       "<svg xmlns=\"http://www.w3.org/2000/svg\" width=\"210\" height=\"210\">\n",
       "<rect x=\"44\" y=\"57\" width=\"23\" height=\"38\" fill=\"yellow\" transform=\"rotate(215, 55.5, 76.0)\"/>\n",
       "<circle cx=\"155\" cy=\"115\" r=\"15\" fill=\"pink\"/>\n",
       "<ellipse cx=\"188\" cy=\"65\" rx=\"18\" ry=\"46\" fill=\"cyan\" transform=\"rotate(261, 188, 65)\"/>\n",
       "<polygon points=\"120,197 189,31 16,133\" fill=\"red\"/>\n",
       "</svg>"
      ],
      "text/plain": [
       "<IPython.core.display.SVG object>"
      ]
     },
     "metadata": {},
     "output_type": "display_data"
    },
    {
     "name": "stdout",
     "output_type": "stream",
     "text": [
      "{'competition_score': 0.16132640866152934, 'vqa_score': 0.1395924652759487, 'ocr_score': 1.0, 'aesthetic_score': 0.4276750087738037}\n",
      "-----\n",
      "a purple silk scarf with tassel trim\n"
     ]
    },
    {
     "data": {
      "image/svg+xml": [
       "<svg xmlns=\"http://www.w3.org/2000/svg\" width=\"210\" height=\"210\">\n",
       "<rect x=\"44\" y=\"57\" width=\"23\" height=\"38\" fill=\"yellow\" transform=\"rotate(215, 55.5, 76.0)\"/>\n",
       "<circle cx=\"155\" cy=\"115\" r=\"15\" fill=\"pink\"/>\n",
       "<ellipse cx=\"188\" cy=\"65\" rx=\"18\" ry=\"46\" fill=\"cyan\" transform=\"rotate(261, 188, 65)\"/>\n",
       "<polygon points=\"120,197 189,31 16,133\" fill=\"red\"/>\n",
       "</svg>"
      ],
      "text/plain": [
       "<IPython.core.display.SVG object>"
      ]
     },
     "metadata": {},
     "output_type": "display_data"
    },
    {
     "name": "stdout",
     "output_type": "stream",
     "text": [
      "{'competition_score': 0.1497517669266549, 'vqa_score': 0.1288229680841777, 'ocr_score': 1.0, 'aesthetic_score': 0.4276750087738037}\n",
      "-----\n",
      "a green lagoon under a cloudy sky\n"
     ]
    },
    {
     "data": {
      "image/svg+xml": [
       "<svg xmlns=\"http://www.w3.org/2000/svg\" width=\"210\" height=\"210\">\n",
       "<rect x=\"44\" y=\"57\" width=\"23\" height=\"38\" fill=\"yellow\" transform=\"rotate(215, 55.5, 76.0)\"/>\n",
       "<circle cx=\"155\" cy=\"115\" r=\"15\" fill=\"pink\"/>\n",
       "<ellipse cx=\"188\" cy=\"65\" rx=\"18\" ry=\"46\" fill=\"cyan\" transform=\"rotate(261, 188, 65)\"/>\n",
       "<polygon points=\"120,197 189,31 16,133\" fill=\"red\"/>\n",
       "</svg>"
      ],
      "text/plain": [
       "<IPython.core.display.SVG object>"
      ]
     },
     "metadata": {},
     "output_type": "display_data"
    },
    {
     "name": "stdout",
     "output_type": "stream",
     "text": [
      "{'competition_score': 0.4384347388818538, 'vqa_score': 0.4412098007158032, 'ocr_score': 1.0, 'aesthetic_score': 0.4276750087738037}\n",
      "-----\n",
      "crimson rectangles forming a chaotic grid\n"
     ]
    },
    {
     "data": {
      "image/svg+xml": [
       "<svg xmlns=\"http://www.w3.org/2000/svg\" width=\"210\" height=\"210\">\n",
       "<rect x=\"44\" y=\"57\" width=\"23\" height=\"38\" fill=\"yellow\" transform=\"rotate(215, 55.5, 76.0)\"/>\n",
       "<circle cx=\"155\" cy=\"115\" r=\"15\" fill=\"pink\"/>\n",
       "<ellipse cx=\"188\" cy=\"65\" rx=\"18\" ry=\"46\" fill=\"cyan\" transform=\"rotate(261, 188, 65)\"/>\n",
       "<polygon points=\"120,197 189,31 16,133\" fill=\"red\"/>\n",
       "</svg>"
      ],
      "text/plain": [
       "<IPython.core.display.SVG object>"
      ]
     },
     "metadata": {},
     "output_type": "display_data"
    },
    {
     "name": "stdout",
     "output_type": "stream",
     "text": [
      "{'competition_score': 0.5121801257691107, 'vqa_score': 0.5387955339031869, 'ocr_score': 1.0, 'aesthetic_score': 0.4276750087738037}\n",
      "-----\n",
      "purple pyramids spiraling around a bronze cone\n"
     ]
    },
    {
     "data": {
      "image/svg+xml": [
       "<svg xmlns=\"http://www.w3.org/2000/svg\" width=\"210\" height=\"210\">\n",
       "<rect x=\"44\" y=\"57\" width=\"23\" height=\"38\" fill=\"yellow\" transform=\"rotate(215, 55.5, 76.0)\"/>\n",
       "<circle cx=\"155\" cy=\"115\" r=\"15\" fill=\"pink\"/>\n",
       "<ellipse cx=\"188\" cy=\"65\" rx=\"18\" ry=\"46\" fill=\"cyan\" transform=\"rotate(261, 188, 65)\"/>\n",
       "<polygon points=\"120,197 189,31 16,133\" fill=\"red\"/>\n",
       "</svg>"
      ],
      "text/plain": [
       "<IPython.core.display.SVG object>"
      ]
     },
     "metadata": {},
     "output_type": "display_data"
    },
    {
     "name": "stdout",
     "output_type": "stream",
     "text": [
      "{'competition_score': 0.21980423325265436, 'vqa_score': 0.19598917457656512, 'ocr_score': 1.0, 'aesthetic_score': 0.4276750087738037}\n",
      "-----\n",
      "magenta trapezoids layered on a transluscent silver sheet\n"
     ]
    },
    {
     "data": {
      "image/svg+xml": [
       "<svg xmlns=\"http://www.w3.org/2000/svg\" width=\"210\" height=\"210\">\n",
       "<rect x=\"44\" y=\"57\" width=\"23\" height=\"38\" fill=\"yellow\" transform=\"rotate(215, 55.5, 76.0)\"/>\n",
       "<circle cx=\"155\" cy=\"115\" r=\"15\" fill=\"pink\"/>\n",
       "<ellipse cx=\"188\" cy=\"65\" rx=\"18\" ry=\"46\" fill=\"cyan\" transform=\"rotate(261, 188, 65)\"/>\n",
       "<polygon points=\"120,197 189,31 16,133\" fill=\"red\"/>\n",
       "</svg>"
      ],
      "text/plain": [
       "<IPython.core.display.SVG object>"
      ]
     },
     "metadata": {},
     "output_type": "display_data"
    },
    {
     "name": "stdout",
     "output_type": "stream",
     "text": [
      "{'competition_score': 0.19116689059766223, 'vqa_score': 0.16794773887170047, 'ocr_score': 1.0, 'aesthetic_score': 0.4276750087738037}\n",
      "-----\n",
      "a snowy plain\n"
     ]
    },
    {
     "data": {
      "image/svg+xml": [
       "<svg xmlns=\"http://www.w3.org/2000/svg\" width=\"210\" height=\"210\">\n",
       "<rect x=\"44\" y=\"57\" width=\"23\" height=\"38\" fill=\"yellow\" transform=\"rotate(215, 55.5, 76.0)\"/>\n",
       "<circle cx=\"155\" cy=\"115\" r=\"15\" fill=\"pink\"/>\n",
       "<ellipse cx=\"188\" cy=\"65\" rx=\"18\" ry=\"46\" fill=\"cyan\" transform=\"rotate(261, 188, 65)\"/>\n",
       "<polygon points=\"120,197 189,31 16,133\" fill=\"red\"/>\n",
       "</svg>"
      ],
      "text/plain": [
       "<IPython.core.display.SVG object>"
      ]
     },
     "metadata": {},
     "output_type": "display_data"
    },
    {
     "name": "stdout",
     "output_type": "stream",
     "text": [
      "{'competition_score': 0.47296496864348814, 'vqa_score': 0.4858270047079266, 'ocr_score': 1.0, 'aesthetic_score': 0.4276750087738037}\n",
      "-----\n",
      "black and white checkered pants\n"
     ]
    },
    {
     "data": {
      "image/svg+xml": [
       "<svg xmlns=\"http://www.w3.org/2000/svg\" width=\"210\" height=\"210\">\n",
       "<rect x=\"44\" y=\"57\" width=\"23\" height=\"38\" fill=\"yellow\" transform=\"rotate(215, 55.5, 76.0)\"/>\n",
       "<circle cx=\"155\" cy=\"115\" r=\"15\" fill=\"pink\"/>\n",
       "<ellipse cx=\"188\" cy=\"65\" rx=\"18\" ry=\"46\" fill=\"cyan\" transform=\"rotate(261, 188, 65)\"/>\n",
       "<polygon points=\"120,197 189,31 16,133\" fill=\"red\"/>\n",
       "</svg>"
      ],
      "text/plain": [
       "<IPython.core.display.SVG object>"
      ]
     },
     "metadata": {},
     "output_type": "display_data"
    },
    {
     "name": "stdout",
     "output_type": "stream",
     "text": [
      "{'competition_score': 0.41304429259854897, 'vqa_score': 0.4095416982070862, 'ocr_score': 1.0, 'aesthetic_score': 0.4276750087738037}\n",
      "-----\n",
      "a starlit night over snow-covered peaks\n"
     ]
    },
    {
     "data": {
      "image/svg+xml": [
       "<svg xmlns=\"http://www.w3.org/2000/svg\" width=\"210\" height=\"210\">\n",
       "<rect x=\"44\" y=\"57\" width=\"23\" height=\"38\" fill=\"yellow\" transform=\"rotate(215, 55.5, 76.0)\"/>\n",
       "<circle cx=\"155\" cy=\"115\" r=\"15\" fill=\"pink\"/>\n",
       "<ellipse cx=\"188\" cy=\"65\" rx=\"18\" ry=\"46\" fill=\"cyan\" transform=\"rotate(261, 188, 65)\"/>\n",
       "<polygon points=\"120,197 189,31 16,133\" fill=\"red\"/>\n",
       "</svg>"
      ],
      "text/plain": [
       "<IPython.core.display.SVG object>"
      ]
     },
     "metadata": {},
     "output_type": "display_data"
    },
    {
     "name": "stdout",
     "output_type": "stream",
     "text": [
      "{'competition_score': 0.7554881037996941, 'vqa_score': 0.9345764199778798, 'ocr_score': 1.0, 'aesthetic_score': 0.4276750087738037}\n",
      "-----\n",
      "khaki triangles and azure crescents\n"
     ]
    },
    {
     "data": {
      "image/svg+xml": [
       "<svg xmlns=\"http://www.w3.org/2000/svg\" width=\"210\" height=\"210\">\n",
       "<rect x=\"44\" y=\"57\" width=\"23\" height=\"38\" fill=\"yellow\" transform=\"rotate(215, 55.5, 76.0)\"/>\n",
       "<circle cx=\"155\" cy=\"115\" r=\"15\" fill=\"pink\"/>\n",
       "<ellipse cx=\"188\" cy=\"65\" rx=\"18\" ry=\"46\" fill=\"cyan\" transform=\"rotate(261, 188, 65)\"/>\n",
       "<polygon points=\"120,197 189,31 16,133\" fill=\"red\"/>\n",
       "</svg>"
      ],
      "text/plain": [
       "<IPython.core.display.SVG object>"
      ]
     },
     "metadata": {},
     "output_type": "display_data"
    },
    {
     "name": "stdout",
     "output_type": "stream",
     "text": [
      "{'competition_score': 0.40301003918791506, 'vqa_score': 0.3972820048363151, 'ocr_score': 1.0, 'aesthetic_score': 0.4276750087738037}\n",
      "-----\n",
      "a maroon dodecahedron interwoven with teal threads\n"
     ]
    },
    {
     "data": {
      "image/svg+xml": [
       "<svg xmlns=\"http://www.w3.org/2000/svg\" width=\"210\" height=\"210\">\n",
       "<rect x=\"44\" y=\"57\" width=\"23\" height=\"38\" fill=\"yellow\" transform=\"rotate(215, 55.5, 76.0)\"/>\n",
       "<circle cx=\"155\" cy=\"115\" r=\"15\" fill=\"pink\"/>\n",
       "<ellipse cx=\"188\" cy=\"65\" rx=\"18\" ry=\"46\" fill=\"cyan\" transform=\"rotate(261, 188, 65)\"/>\n",
       "<polygon points=\"120,197 189,31 16,133\" fill=\"red\"/>\n",
       "</svg>"
      ],
      "text/plain": [
       "<IPython.core.display.SVG object>"
      ]
     },
     "metadata": {},
     "output_type": "display_data"
    },
    {
     "name": "stdout",
     "output_type": "stream",
     "text": [
      "{'competition_score': 0.2863085144714524, 'vqa_score': 0.2644548551469633, 'ocr_score': 1.0, 'aesthetic_score': 0.4276750087738037}\n",
      "-----\n"
     ]
    },
    {
     "data": {
      "text/html": [
       "<div>\n",
       "<style scoped>\n",
       "    .dataframe tbody tr th:only-of-type {\n",
       "        vertical-align: middle;\n",
       "    }\n",
       "\n",
       "    .dataframe tbody tr th {\n",
       "        vertical-align: top;\n",
       "    }\n",
       "\n",
       "    .dataframe thead th {\n",
       "        text-align: right;\n",
       "    }\n",
       "</style>\n",
       "<table border=\"1\" class=\"dataframe\">\n",
       "  <thead>\n",
       "    <tr style=\"text-align: right;\">\n",
       "      <th></th>\n",
       "      <th>competition_score</th>\n",
       "      <th>vqa_score</th>\n",
       "      <th>ocr_score</th>\n",
       "      <th>aesthetic_score</th>\n",
       "    </tr>\n",
       "  </thead>\n",
       "  <tbody>\n",
       "    <tr>\n",
       "      <th>count</th>\n",
       "      <td>15.000000</td>\n",
       "      <td>15.000000</td>\n",
       "      <td>15.0</td>\n",
       "      <td>15.000000</td>\n",
       "    </tr>\n",
       "    <tr>\n",
       "      <th>mean</th>\n",
       "      <td>0.387289</td>\n",
       "      <td>0.408209</td>\n",
       "      <td>1.0</td>\n",
       "      <td>0.427675</td>\n",
       "    </tr>\n",
       "    <tr>\n",
       "      <th>std</th>\n",
       "      <td>0.207370</td>\n",
       "      <td>0.271570</td>\n",
       "      <td>0.0</td>\n",
       "      <td>0.000000</td>\n",
       "    </tr>\n",
       "    <tr>\n",
       "      <th>min</th>\n",
       "      <td>0.149752</td>\n",
       "      <td>0.128823</td>\n",
       "      <td>1.0</td>\n",
       "      <td>0.427675</td>\n",
       "    </tr>\n",
       "    <tr>\n",
       "      <th>25%</th>\n",
       "      <td>0.205486</td>\n",
       "      <td>0.181968</td>\n",
       "      <td>1.0</td>\n",
       "      <td>0.427675</td>\n",
       "    </tr>\n",
       "    <tr>\n",
       "      <th>50%</th>\n",
       "      <td>0.403010</td>\n",
       "      <td>0.397282</td>\n",
       "      <td>1.0</td>\n",
       "      <td>0.427675</td>\n",
       "    </tr>\n",
       "    <tr>\n",
       "      <th>75%</th>\n",
       "      <td>0.492573</td>\n",
       "      <td>0.512311</td>\n",
       "      <td>1.0</td>\n",
       "      <td>0.427675</td>\n",
       "    </tr>\n",
       "    <tr>\n",
       "      <th>max</th>\n",
       "      <td>0.755488</td>\n",
       "      <td>0.934576</td>\n",
       "      <td>1.0</td>\n",
       "      <td>0.427675</td>\n",
       "    </tr>\n",
       "  </tbody>\n",
       "</table>\n",
       "</div>"
      ],
      "text/plain": [
       "       competition_score  vqa_score  ocr_score  aesthetic_score\n",
       "count          15.000000  15.000000       15.0        15.000000\n",
       "mean            0.387289   0.408209        1.0         0.427675\n",
       "std             0.207370   0.271570        0.0         0.000000\n",
       "min             0.149752   0.128823        1.0         0.427675\n",
       "25%             0.205486   0.181968        1.0         0.427675\n",
       "50%             0.403010   0.397282        1.0         0.427675\n",
       "75%             0.492573   0.512311        1.0         0.427675\n",
       "max             0.755488   0.934576        1.0         0.427675"
      ]
     },
     "execution_count": 7,
     "metadata": {},
     "output_type": "execute_result"
    }
   ],
   "source": [
    "# test model on the train dataset \n",
    "all_scores = []\n",
    "for idx, row in train_df.iterrows():\n",
    "    img_description = row['description']\n",
    "    print(img_description)\n",
    "\n",
    "    svg = model.predict(img_description)\n",
    "    display(SVG(svg))\n",
    "\n",
    "    # prepare questions for scoring\n",
    "    questions = questions_df.loc[idx]\n",
    "    questions_dict = {\n",
    "        'question': questions['question'].tolist(),\n",
    "        'choices': questions['choices'].tolist(),\n",
    "        'answer': questions['answer'].tolist()\n",
    "    }\n",
    "\n",
    "    score = metric.score_instance(questions_dict, svg, random_seed=2)\n",
    "    print(score)\n",
    "    print('-----')\n",
    "\n",
    "    all_scores.append(score)\n",
    "\n",
    "scores_df = pd.DataFrame(all_scores)\n",
    "scores_df.describe()"
   ]
  },
  {
   "cell_type": "code",
   "execution_count": 8,
   "id": "ae8338e3",
   "metadata": {
    "execution": {
     "iopub.execute_input": "2025-04-04T10:55:56.975430Z",
     "iopub.status.busy": "2025-04-04T10:55:56.975145Z",
     "iopub.status.idle": "2025-04-04T10:55:57.304658Z",
     "shell.execute_reply": "2025-04-04T10:55:57.303864Z"
    },
    "papermill": {
     "duration": 0.336573,
     "end_time": "2025-04-04T10:55:57.306004",
     "exception": false,
     "start_time": "2025-04-04T10:55:56.969431",
     "status": "completed"
    },
    "tags": []
   },
   "outputs": [
    {
     "name": "stderr",
     "output_type": "stream",
     "text": [
      "/usr/local/lib/python3.10/dist-packages/seaborn/_oldcore.py:1119: FutureWarning: use_inf_as_na option is deprecated and will be removed in a future version. Convert inf values to NaN before operating instead.\n",
      "  with pd.option_context('mode.use_inf_as_na', True):\n",
      "/usr/local/lib/python3.10/dist-packages/seaborn/_oldcore.py:1119: FutureWarning: use_inf_as_na option is deprecated and will be removed in a future version. Convert inf values to NaN before operating instead.\n",
      "  with pd.option_context('mode.use_inf_as_na', True):\n",
      "/usr/local/lib/python3.10/dist-packages/seaborn/_oldcore.py:1075: FutureWarning: When grouping with a length-1 list-like, you will need to pass a length-1 tuple to get_group in a future version of pandas. Pass `(name,)` instead of `name` to silence this warning.\n",
      "  data_subset = grouped_data.get_group(pd_key)\n",
      "/usr/local/lib/python3.10/dist-packages/seaborn/categorical.py:3544: UserWarning: 13.3% of the points cannot be placed; you may want to decrease the size of the markers or use stripplot.\n",
      "  warnings.warn(msg, UserWarning)\n"
     ]
    },
    {
     "data": {
      "image/png": "[encoded data removed]",
      "text/plain": [
       "<Figure size 640x480 with 1 Axes>"
      ]
     },
     "metadata": {},
     "output_type": "display_data"
    }
   ],
   "source": [
    "sns.swarmplot(scores_df);"
   ]
  },
  {
   "cell_type": "code",
   "execution_count": 9,
   "id": "7a9b29a0",
   "metadata": {
    "execution": {
     "iopub.execute_input": "2025-04-04T10:55:57.317318Z",
     "iopub.status.busy": "2025-04-04T10:55:57.317053Z",
     "iopub.status.idle": "2025-04-04T10:55:57.699390Z",
     "shell.execute_reply": "2025-04-04T10:55:57.698585Z"
    },
    "papermill": {
     "duration": 0.389616,
     "end_time": "2025-04-04T10:55:57.700932",
     "exception": false,
     "start_time": "2025-04-04T10:55:57.311316",
     "status": "completed"
    },
    "tags": []
   },
   "outputs": [
    {
     "data": {
      "image/png": "[encoded data removed]",
      "text/plain": [
       "<Figure size 640x480 with 2 Axes>"
      ]
     },
     "metadata": {},
     "output_type": "display_data"
    }
   ],
   "source": [
    "sns.heatmap(scores_df, annot = True);"
   ]
  }
 ],
 "metadata": {
  "kaggle": {
   "accelerator": "nvidiaTeslaT4",
   "dataSources": [
    {
     "databundleVersionId": 11522106,
     "sourceId": 89659,
     "sourceType": "competition"
    },
    {
     "sourceId": 224423433,
     "sourceType": "kernelVersion"
    },
    {
     "sourceId": 230023475,
     "sourceType": "kernelVersion"
    },
    {
     "sourceId": 230023480,
     "sourceType": "kernelVersion"
    },
    {
     "modelId": 164716,
     "modelInstanceId": 225001,
     "sourceId": 263093,
     "sourceType": "modelInstanceVersion"
    },
    {
     "modelId": 269379,
     "modelInstanceId": 247861,
     "sourceId": 289299,
     "sourceType": "modelInstanceVersion"
    },
    {
     "modelId": 269387,
     "modelInstanceId": 247869,
     "sourceId": 289308,
     "sourceType": "modelInstanceVersion"
    }
   ],
   "dockerImageVersionId": 30918,
   "isGpuEnabled": true,
   "isInternetEnabled": false,
   "language": "python",
   "sourceType": "notebook"
  },
  "kernelspec": {
   "display_name": "Python 3",
   "language": "python",
   "name": "python3"
  },
  "language_info": {
   "codemirror_mode": {
    "name": "ipython",
    "version": 3
   },
   "file_extension": ".py",
   "mimetype": "text/x-python",
   "name": "python",
   "nbconvert_exporter": "python",
   "pygments_lexer": "ipython3",
   "version": "3.10.12"
  },
  "papermill": {
   "default_parameters": {},
   "duration": 299.030536,
   "end_time": "2025-04-04T10:56:00.903773",
   "environment_variables": {},
   "exception": null,
   "input_path": "__notebook__.ipynb",
   "output_path": "__notebook__.ipynb",
   "parameters": {},
   "start_time": "2025-04-04T10:51:01.873237",
   "version": "2.6.0"
  },
  "widgets": {
   "application/vnd.jupyter.widget-state+json": {
    "state": {
     "0a2f6fbafb5740f09a382328e53f8080": {
      "model_module": "@jupyter-widgets/controls",
      "model_module_version": "2.0.0",
      "model_name": "HTMLModel",
      "state": {
       "_dom_classes": [],
       "_model_module": "@jupyter-widgets/controls",
       "_model_module_version": "2.0.0",
       "_model_name": "HTMLModel",
       "_view_count": null,
       "_view_module": "@jupyter-widgets/controls",
       "_view_module_version": "2.0.0",
       "_view_name": "HTMLView",
       "description": "",
       "description_allow_html": false,
       "layout": "IPY_MODEL_d5419016cdeb49e18cc962b2674cee6f",
       "placeholder": "​",
       "style": "IPY_MODEL_861dfca105c44a15a2c2a026d9bba0b1",
       "tabbable": null,
       "tooltip": null,
       "value": " 4/4 [01:38&lt;00:00, 24.19s/it]"
      }
     },
     "6156be0a65674627a68dca427cb6301f": {
      "model_module": "@jupyter-widgets/controls",
      "model_module_version": "2.0.0",
      "model_name": "HTMLModel",
      "state": {
       "_dom_classes": [],
       "_model_module": "@jupyter-widgets/controls",
       "_model_module_version": "2.0.0",
       "_model_name": "HTMLModel",
       "_view_count": null,
       "_view_module": "@jupyter-widgets/controls",
       "_view_module_version": "2.0.0",
       "_view_name": "HTMLView",
       "description": "",
       "description_allow_html": false,
       "layout": "IPY_MODEL_88b79acd38324a5fb6dc0b90a43c37af",
       "placeholder": "​",
       "style": "IPY_MODEL_fce09e9bbb2b482fb3d2ebb94b0f9037",
       "tabbable": null,
       "tooltip": null,
       "value": "Loading checkpoint shards: 100%"
      }
     },
     "7ef14155ff4949b7beaac528c5f53e01": {
      "model_module": "@jupyter-widgets/controls",
      "model_module_version": "2.0.0",
      "model_name": "HBoxModel",
      "state": {
       "_dom_classes": [],
       "_model_module": "@jupyter-widgets/controls",
       "_model_module_version": "2.0.0",
       "_model_name": "HBoxModel",
       "_view_count": null,
       "_view_module": "@jupyter-widgets/controls",
       "_view_module_version": "2.0.0",
       "_view_name": "HBoxView",
       "box_style": "",
       "children": [
        "IPY_MODEL_6156be0a65674627a68dca427cb6301f",
        "IPY_MODEL_8a9251ad5c664fd180cd0ec8f9cf5c5c",
        "IPY_MODEL_0a2f6fbafb5740f09a382328e53f8080"
       ],
       "layout": "IPY_MODEL_988abe4c083f4e67af3a26aa01a330ce",
       "tabbable": null,
       "tooltip": null
      }
     },
     "861dfca105c44a15a2c2a026d9bba0b1": {
      "model_module": "@jupyter-widgets/controls",
      "model_module_version": "2.0.0",
      "model_name": "HTMLStyleModel",
      "state": {
       "_model_module": "@jupyter-widgets/controls",
       "_model_module_version": "2.0.0",
       "_model_name": "HTMLStyleModel",
       "_view_count": null,
       "_view_module": "@jupyter-widgets/base",
       "_view_module_version": "2.0.0",
       "_view_name": "StyleView",
       "background": null,
       "description_width": "",
       "font_size": null,
       "text_color": null
      }
     },
     "88b79acd38324a5fb6dc0b90a43c37af": {
      "model_module": "@jupyter-widgets/base",
      "model_module_version": "2.0.0",
      "model_name": "LayoutModel",
      "state": {
       "_model_module": "@jupyter-widgets/base",
       "_model_module_version": "2.0.0",
       "_model_name": "LayoutModel",
       "_view_count": null,
       "_view_module": "@jupyter-widgets/base",
       "_view_module_version": "2.0.0",
       "_view_name": "LayoutView",
       "align_content": null,
       "align_items": null,
       "align_self": null,
       "border_bottom": null,
       "border_left": null,
       "border_right": null,
       "border_top": null,
       "bottom": null,
       "display": null,
       "flex": null,
       "flex_flow": null,
       "grid_area": null,
       "grid_auto_columns": null,
       "grid_auto_flow": null,
       "grid_auto_rows": null,
       "grid_column": null,
       "grid_gap": null,
       "grid_row": null,
       "grid_template_areas": null,
       "grid_template_columns": null,
       "grid_template_rows": null,
       "height": null,
       "justify_content": null,
       "justify_items": null,
       "left": null,
       "margin": null,
       "max_height": null,
       "max_width": null,
       "min_height": null,
       "min_width": null,
       "object_fit": null,
       "object_position": null,
       "order": null,
       "overflow": null,
       "padding": null,
       "right": null,
       "top": null,
       "visibility": null,
       "width": null
      }
     },
     "8a9251ad5c664fd180cd0ec8f9cf5c5c": {
      "model_module": "@jupyter-widgets/controls",
      "model_module_version": "2.0.0",
      "model_name": "FloatProgressModel",
      "state": {
       "_dom_classes": [],
       "_model_module": "@jupyter-widgets/controls",
       "_model_module_version": "2.0.0",
       "_model_name": "FloatProgressModel",
       "_view_count": null,
       "_view_module": "@jupyter-widgets/controls",
       "_view_module_version": "2.0.0",
       "_view_name": "ProgressView",
       "bar_style": "success",
       "description": "",
       "description_allow_html": false,
       "layout": "IPY_MODEL_bae9c6d87a6b4b09a39c7747326198af",
       "max": 4.0,
       "min": 0.0,
       "orientation": "horizontal",
       "style": "IPY_MODEL_a3933c7de0de4dc4b27abb0512e389a6",
       "tabbable": null,
       "tooltip": null,
       "value": 4.0
      }
     },
     "988abe4c083f4e67af3a26aa01a330ce": {
      "model_module": "@jupyter-widgets/base",
      "model_module_version": "2.0.0",
      "model_name": "LayoutModel",
      "state": {
       "_model_module": "@jupyter-widgets/base",
       "_model_module_version": "2.0.0",
       "_model_name": "LayoutModel",
       "_view_count": null,
       "_view_module": "@jupyter-widgets/base",
       "_view_module_version": "2.0.0",
       "_view_name": "LayoutView",
       "align_content": null,
       "align_items": null,
       "align_self": null,
       "border_bottom": null,
       "border_left": null,
       "border_right": null,
       "border_top": null,
       "bottom": null,
       "display": null,
       "flex": null,
       "flex_flow": null,
       "grid_area": null,
       "grid_auto_columns": null,
       "grid_auto_flow": null,
       "grid_auto_rows": null,
       "grid_column": null,
       "grid_gap": null,
       "grid_row": null,
       "grid_template_areas": null,
       "grid_template_columns": null,
       "grid_template_rows": null,
       "height": null,
       "justify_content": null,
       "justify_items": null,
       "left": null,
       "margin": null,
       "max_height": null,
       "max_width": null,
       "min_height": null,
       "min_width": null,
       "object_fit": null,
       "object_position": null,
       "order": null,
       "overflow": null,
       "padding": null,
       "right": null,
       "top": null,
       "visibility": null,
       "width": null
      }
     },
     "a3933c7de0de4dc4b27abb0512e389a6": {
      "model_module": "@jupyter-widgets/controls",
      "model_module_version": "2.0.0",
      "model_name": "ProgressStyleModel",
      "state": {
       "_model_module": "@jupyter-widgets/controls",
       "_model_module_version": "2.0.0",
       "_model_name": "ProgressStyleModel",
       "_view_count": null,
       "_view_module": "@jupyter-widgets/base",
       "_view_module_version": "2.0.0",
       "_view_name": "StyleView",
       "bar_color": null,
       "description_width": ""
      }
     },
     "bae9c6d87a6b4b09a39c7747326198af": {
      "model_module": "@jupyter-widgets/base",
      "model_module_version": "2.0.0",
      "model_name": "LayoutModel",
      "state": {
       "_model_module": "@jupyter-widgets/base",
       "_model_module_version": "2.0.0",
       "_model_name": "LayoutModel",
       "_view_count": null,
       "_view_module": "@jupyter-widgets/base",
       "_view_module_version": "2.0.0",
       "_view_name": "LayoutView",
       "align_content": null,
       "align_items": null,
       "align_self": null,
       "border_bottom": null,
       "border_left": null,
       "border_right": null,
       "border_top": null,
       "bottom": null,
       "display": null,
       "flex": null,
       "flex_flow": null,
       "grid_area": null,
       "grid_auto_columns": null,
       "grid_auto_flow": null,
       "grid_auto_rows": null,
       "grid_column": null,
       "grid_gap": null,
       "grid_row": null,
       "grid_template_areas": null,
       "grid_template_columns": null,
       "grid_template_rows": null,
       "height": null,
       "justify_content": null,
       "justify_items": null,
       "left": null,
       "margin": null,
       "max_height": null,
       "max_width": null,
       "min_height": null,
       "min_width": null,
       "object_fit": null,
       "object_position": null,
       "order": null,
       "overflow": null,
       "padding": null,
       "right": null,
       "top": null,
       "visibility": null,
       "width": null
      }
     },
     "d5419016cdeb49e18cc962b2674cee6f": {
      "model_module": "@jupyter-widgets/base",
      "model_module_version": "2.0.0",
      "model_name": "LayoutModel",
      "state": {
       "_model_module": "@jupyter-widgets/base",
       "_model_module_version": "2.0.0",
       "_model_name": "LayoutModel",
       "_view_count": null,
       "_view_module": "@jupyter-widgets/base",
       "_view_module_version": "2.0.0",
       "_view_name": "LayoutView",
       "align_content": null,
       "align_items": null,
       "align_self": null,
       "border_bottom": null,
       "border_left": null,
       "border_right": null,
       "border_top": null,
       "bottom": null,
       "display": null,
       "flex": null,
       "flex_flow": null,
       "grid_area": null,
       "grid_auto_columns": null,
       "grid_auto_flow": null,
       "grid_auto_rows": null,
       "grid_column": null,
       "grid_gap": null,
       "grid_row": null,
       "grid_template_areas": null,
       "grid_template_columns": null,
       "grid_template_rows": null,
       "height": null,
       "justify_content": null,
       "justify_items": null,
       "left": null,
       "margin": null,
       "max_height": null,
       "max_width": null,
       "min_height": null,
       "min_width": null,
       "object_fit": null,
       "object_position": null,
       "order": null,
       "overflow": null,
       "padding": null,
       "right": null,
       "top": null,
       "visibility": null,
       "width": null
      }
     },
     "fce09e9bbb2b482fb3d2ebb94b0f9037": {
      "model_module": "@jupyter-widgets/controls",
      "model_module_version": "2.0.0",
      "model_name": "HTMLStyleModel",
      "state": {
       "_model_module": "@jupyter-widgets/controls",
       "_model_module_version": "2.0.0",
       "_model_name": "HTMLStyleModel",
       "_view_count": null,
       "_view_module": "@jupyter-widgets/base",
       "_view_module_version": "2.0.0",
       "_view_name": "StyleView",
       "background": null,
       "description_width": "",
       "font_size": null,
       "text_color": null
      }
     }
    },
    "version_major": 2,
    "version_minor": 0
   }
  }
 },
 "nbformat": 4,
 "nbformat_minor": 5
}
