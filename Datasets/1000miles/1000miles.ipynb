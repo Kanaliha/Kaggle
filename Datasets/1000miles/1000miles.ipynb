{
  "nbformat": 4,
  "nbformat_minor": 0,
  "metadata": {
    "colab": {
      "name": "1000miles.ipynb",
      "provenance": [],
      "authorship_tag": "ABX9TyMxVox35nPrOTLZlVXCCobE",
      "include_colab_link": true
    },
    "kernelspec": {
      "name": "python3",
      "display_name": "Python 3"
    },
    "language_info": {
      "name": "python"
    }
  },
  "cells": [
    {
      "cell_type": "markdown",
      "metadata": {
        "id": "view-in-github",
        "colab_type": "text"
      },
      "source": [
        "<a href=\"https://colab.research.google.com/github/Kanaliha/Kaggle/blob/main/Datasets/1000miles/1000miles.ipynb\" target=\"_parent\"><img src=\"https://colab.research.google.com/assets/colab-badge.svg\" alt=\"Open In Colab\"/></a>"
      ]
    },
    {
      "cell_type": "markdown",
      "source": [
        "# 1000 Miles"
      ],
      "metadata": {
        "id": "2d-WzKlFbyM_"
      }
    },
    {
      "cell_type": "markdown",
      "source": [
        "## Read info from web"
      ],
      "metadata": {
        "id": "dbu2snwm7b2_"
      }
    },
    {
      "cell_type": "code",
      "execution_count": 12,
      "metadata": {
        "id": "NXmZFfPebEwn",
        "colab": {
          "base_uri": "https://localhost:8080/",
          "height": 1000
        },
        "outputId": "6285455d-ffb7-4a2d-f80c-2b237cd5d22c"
      },
      "outputs": [
        {
          "output_type": "stream",
          "name": "stdout",
          "text": [
            "['[70] Lukáš Badura (536.06 km, 19:58:43):\\xa0P7M7E8 Dekuji za podporu, ale dnes to nebylo suchou nohou, nekdy je to boj. Ciao Lukess', '[173] Tomáš Fabián (533.99 km, 19:40:28):\\xa0P8M9E9 Dmes krasnq destiva horska etapa. Tes honem do cp', '[185] Tomáš Hadámek (533.99 km, 19:41:02):\\xa0P7M9E8', '[199] Tom Novotný (533.99 km, 19:40:22):\\xa0P8M9E9', '[35] Libor Darebník (526.99 km, 19:46:04):\\xa0Chtěl jsem na CP1, řeším nocleh. Asi Teplice.', '[108] Petr Vaněk (483.36 km, 19:25:14):\\xa0P8M8E8', '[90] Michael Kazimiers (451.60 km, 22:17:31):\\xa0P7M5E9', '[102] Michal Kučera (443.55 km, 19:53:19):\\xa0P7M9E10', '[14] Ondřej Kacar (436.24 km, 19:16:45):\\xa0Úžasný den. Miluško Kiliánku Kristiánku ❤', '[22] Tomáš Marada (436.24 km, 22:25:52):\\xa0P9M9E9 Vše v cajku, jedu dál.', '[78] Jakub Lély (436.24 km, 19:17:10):\\xa0P7M7E9 Celkem se to rozjelo. Jeste pokracuju', '[26] Ivan Andraško (428.48 km, 19:56:29):\\xa0P9M9E9', '[31] Václav Slíva (428.48 km, 19:51:06):\\xa0P3M6E8', '[156] Radek Maťha (428.48 km, 18:11:22):\\xa0P9M9E9 teda letosni Krizna fakt tyfus', '[103] Juraj Mydliar (413.34 km, 18:52:28):\\xa0P10M10E9', '[46] Rudolf Halbich (412.93 km, 19:43:42):\\xa0P7M7E9 Nezaprsi a nezaprsi!! Terezko moc se na Tebe těším!!', '[41] Pavel Hnyk (403.98 km, 20:02:05):\\xa0P7M4E9 vse ok', '[71] Radim Svoboda (403.98 km, 19:39:34):\\xa0P7M7E8 Zmokl jak cip.', '[73] Jan Lesák (403.80 km, 19:40:44):\\xa0P8M8E7 Leje', '[97] David Foldyna (394.09 km, 19:08:56):\\xa0P8M8E8 pluju v evoluvnim protiroudu,menim se v opici', '[29] Tomáš Drbohlav (393.68 km, 18:39:47):\\xa0P7M9E7 Križnou zahalil déšť, nás halí útulná vesnická čtyrka', '[94] Vojtěch Krejsa (393.68 km, 19:56:33):\\xa0P4M4E4 Po krasnym dnu na poslednim kopci dest. Zmrzlej a mokrej na kost. Dnes konec.', '[20] Jakub Cicvárek (393.67 km, 19:19:52):\\xa0P6M7E7X7', '[72] Pavel Kepka (393.67 km, 19:47:30):\\xa0P8M9E9', '[13] Petr Morávek (393.64 km, 19:21:18):\\xa0P8M8E7', '[50] Miloš Šimerda (393.64 km, 19:56:46):\\xa0P6M9E9', '[137] Robin Morávek (393.64 km, 19:19:50):\\xa0P5M5E8', '[53] Štěpán Pachta (381.72 km, 18:48:55):\\xa0P8M8E8 prší, musím rychle jeste přejet jeden kopec, vše ok', '[89] Ľubomír Jančovič (381.72 km, 23:59:27):\\xa0P8M8E9', '[140] Martin Parůžek (381.72 km, 23:59:43):\\xa0P8M8E7 pardon za pozdni odeslání splachlo mě to na posledním kopci, pak už nebyl signál a na další kopec jsem pro nej jet nechtěl , protože nám jel naproti závodník po setkání s medvedem. Jinak mile léčí , obohacují a taky odhalují charaktery poznání včerejšího večera.', '[119] Tomasz Fidytek (380.96 km, 20:13:23):\\xa0P7M7E8 Idę spać', '[65] Zdeněk Borůvka (377.81 km, 23:59:02):\\xa0P9M9E9 RANO VE SJEZDU JSEM PICHL , VSE V PORADKU, ZACALO PRSET SKVELY PAN NAS SHOVAL NA NOC POD STRECHU', '[86] Mira Zajíček (377.81 km, 23:59:05):\\xa0P9M9E9x9 spíme v chatě kvůli nepřízní pocasi', '[110] Václav Vondriska (377.81 km, 23:59:11):\\xa0P9N9E9', '[120] Anton Gardian (377.81 km, 23:59:43):\\xa0P9M9E9 dneska je to mokré :) ale dobre', '[131] Josef Magera (377.81 km, 23:59:11):\\xa0P9 M9E9 Zastavili jsme v chate u silnice, ochotny pan nas necha prespat v izbe. Zdravim taborniky ze Skripova!! Dejte si rundu na me', '[22] Tomáš Marada (372.94 km, 19:14:17):\\xa0P9M9E9 Vše v cajku, jedu dál.', '[66] David Rezek (366.16 km, 18:32:32):\\xa0P7M8P7 dneska super, zataženo, jelo se lépe, ale nyní je strašný liják', '[99] Markéta Rezková (366.16 km, 18:46:33):\\xa0P7M8P7 dnes bych jen jedla :-)) PS: strašně moc děkuji paní, která nám poskytla nocleh v tom strašným lijáku co teď je. Dobří lidé ještě existují! PS: Maxíku a Ferdíku jste moje lásky ❤️❤️', '[111] Jitka Gartnerová (366.16 km, 18:13:10):\\xa0P9M9E9 Kochaci etapa. Kozi kamen se mi tentokrat libil, protoze jsme ho jen objeli.', '[125] Ondřej Mašát (366.16 km, 19:59:59):\\xa0P8M8E8', '[28] Martin Coufal (362.06 km, 19:38:09):\\xa0P7M8E9 Jsem cely promoceny, doufam ze zitra nebude prset', '[106] Tomáš Sedláček (362.06 km, 19:09:44):\\xa0P7M9E9 Dneska se mi to moc líbilo. Krásné louky s výhledem na Vysoké Tatry, pak ještě hezčí výhled od nádrže Čierny Váh, parádní trail do Liptovského Hrádku a nakonec nás to brutálně spláchlo před Liptovskýma Klačanama.', '[107] Tomáš Benko (362.06 km, 19:14:55):\\xa0P7M3E9', '[11] Petr Michel (355.35 km, 18:17:26):\\xa0P9M9E9 dnes trochu prselo, vse ok, drzte palce je to makacka, jedu co to da, Vito a Karle myslim na vas, Bo mile', '[116] Pavel Horák (355.35 km, 18:23:56):\\xa0P8M5E8 Konecne zmizelo horko, jelo by se dobre, ale zlobi me obe kolena, tak snad se to rozhybe. Prej co boli, roste, rika trener :-)', '[117] Libor Štěpán (355.35 km, 18:15:20):\\xa0P9N9E9 Stridave destik,stridave slunicko. Jedu dal', '[83] Jaromír Maliňák (355.28 km, 19:09:27):\\xa0P8M7E9 Zdravim svoji rodinu ktera maka a stara se o meho psa zatimco ja si jezdim na kole dik', '[98] Pavel Polášek (355.28 km, 18:58:26):\\xa0P9M9E9 dnes to bylo jezdivejsí, počasí začalo zlobit', '[19] Frances Hiscox (351.76 km, 18:04:45):\\xa0P7M9E9', '[84] Vladimír Vinduška (351.76 km, 18:06:03):\\xa0P5M7E9. Tak my jedem na tu jednu GPS. Aspoň si mě dcera teď musí víc vážit. :-)', '[190] Markéta Marvanová (350.83 km, 20:00:33):\\xa0P9M9E9 velky dobry! Dnes dole i nahore. Vzdavani i zazraky. Vice na mych sitich ;)', '[55] Robin Pělucha (347.34 km, 11:31:53):\\xa0Ahoj. Bohuzel koncim, protaci se mi kazeta, servis s Liptovskem Mikulasi si nevi rady. Tak snad priste. Robin Pelucha', '[79] Lukáš Vik (339.66 km, 18:15:15):\\xa0P8M9E9 Zatim to jede, ale...', '[24] Radim Korček (339.55 km, 18:07:31):\\xa0P9M9E9 Dnes dva defekty', '[9] Martin Pospíšil (338.19 km, 19:01:25):\\xa0P9M9E9 ta prehrada byla vyzivna ale jedu, zdur', '[18] Martin Beránek (338.19 km, 18:55:27):\\xa0P7M9E9 Prsi', '[44] Josef Brychta (338.19 km, 18:53:11):\\xa0P9M9E8 super den akorat mohl počkat déšť ještě 2hod :-)', '[45] Jan Kupa (338.19 km, 18:52:13):\\xa0P8M9E9', '[172] Daniel Vyskočil (338.19 km, 18:55:35):\\xa0P7 M8 E8', '[101] Tomáš Barták (338.11 km, 22:25:20):\\xa0P9M9E9 Super den, jezdiva a hezka trasa, vyhledy na Tatry, vystup na Cierny Vah za odmenu. Pak utikani pred destem a bydlime v Liptovskem Hradku.', '[10] Radek Tichý (331.64 km, 19:53:42):\\xa0P9M9E9 zadulin ok', '[30] Tomáš Novotný (331.64 km, 19:25:14):\\xa0P9M9E9', '[49] Tomáš Hrábek (331.64 km, 19:56:32):\\xa0P6M7E9', '[54] Rostislav Havelka st. (331.64 km, 18:58:17):\\xa0P9M9E9 Dnes se nestalo nic zajímavého, pokračuji dal podle plánu. Louky nad Sunavou, které se mi před 3 lety tak líbily, mi letos přišly hrozně jednotvarne...', '[75] Kryštof Činčera (331.64 km, 20:09:10):\\xa0P8M7E9', '[77] Rostislav Havelka ml. (331.64 km, 19:05:18):\\xa0Dnes takovy klidny den. Je prijemnou zmenou byt v jinem state, kde lide vyvesuji pouze svoje vlajky..... A Slováci jsou navic strasne mili... Jen behem zastavky u benzinky nas oslovili dva lide, zda jedeme Mile..... Kdyz porovnam pocet Cechu a Slovaku ve startovni listine....', '[115] Matěj Činčera (331.64 km, 19:52:51):\\xa0P8M8E8', '[134] Jakub Frajkovský (331.64 km, 21:24:34):\\xa0P9M9E9,konecne bude sprcha', '[158] Jiří Kobr (331.64 km, 19:29:04):\\xa0P9M9E9 dnes konec moc prší.', '[33] Pavel Raška (331.52 km, 18:14:41):\\xa0P6M6E8', '[52] Jan Novák (331.52 km, 18:13:10):\\xa0P8M9E9 Celkem to jede . Pavlík moc nezlobí .', '[176] Aleš Daněk (331.52 km, 18:15:40):\\xa0P7M7E9X7 Dneska to bylo lepší než včera,nepařilo ☀️', '[40] Radka Hadámková (315.65 km, 19:35:39):\\xa0P6 M8 E7 X8 Dnes Prada, pocasi optimalni, krasne vyhledy, skvela spolecnost. Jedeme dal.', '[39] Petr Tlach (314.95 km, 19:22:06):\\xa0P8M9E8 specham do Svarina', '[57] Tomáš Pešek (311.07 km, 19:34:30):\\xa0P8M8E8 Krásně se spíš jde než jede :-) A ten deštník ..nádhera ;-)', '[163] Tomáš Kyral (311.07 km, 18:03:56):\\xa0P7M7E7 Dnes fantastická jízda, úžasná příroda, halušky. Jen Čierny Váh nevyšel - respektuji bouřku a pravidla - měl sem jet holt rychleji a jdu si najít ubytko ve vesnici.', '[12] Martin Coufalík (307.32 km, 19:57:25):\\xa0P8M8E8', '[104] Milan Hauer (305.11 km, 19:38:28):\\xa0P8M8E9', '[142] Jakub Šilar (303.96 km, 20:19:32):\\xa0P6M9E8 Dnes trochu pěší turistika, ale kilčo padlo a výhledy nadherny. Trochu zlobí koleno, ale dá se jet. V Šunavě celkem štěstí na fajn ubytko. ;-)', '[142] Jakub Šilar (302.45 km, 18:29:41):\\xa0P5M7E8. Nad Šuňavou mě zastihla bouřka a čekám v teple posedu, až se to trochu vyklidní. Plán je sjet do vesnice a tam někde zabivakovat.', '[96] Michal Dvořák (299.87 km, 19:05:50):\\xa0P9M9E9 Krásný večer....:-) jedu jako drak....:-) potkal jsem na trase parťáka č144 a je narozen také 1 . 8. :-)', '[144] Petr Zouhar (299.87 km, 19:06:21):\\xa0P6M9E6 Dnes pohosteni od mistnich v lese u Sunavy u diky moc', '[76] Tomáš Otta (294.33 km, 19:26:27):\\xa0P6M6E9 SIlenstvi a ja se na nej jeste pul roku tesim', '[17] Jan Vrňák (290.38 km, 18:47:08):\\xa0P7M7E8', '[37] Jakub Myška (290.38 km, 19:59:17):\\xa0P9M9E10 Dnešní jízda \"do kopce\" ze Spišké N. Vsi se ze začátku tvářila jako rovina, ale vítr z ní nakonec udělal kopec.', '[67] Karel Hnátek (290.38 km, 18:48:08):\\xa0P9M10E8', '[129] Marek Kiša (290.38 km, 19:17:00):\\xa0P9M9E9 Po ranni vrcharske rozvicce za Margecanama se paradoxne zdala nejtezsi rovinka cyklostezky v poli za Spisskou.', '[143] Roman Švach (290.38 km, 19:27:38):\\xa0P7M9E9 Prší, po tom horku příjemná změna. Krásné výhledy, které jsem neviděl skrze pot v očích, který navíc štípe.', '[145] Petr Vyskočil (290.38 km, 19:00:14):\\xa0P9M 8E9 pul dne boj s bolavym kolenem 8 km pred puvodnim koncem sekla navigace a ted nam rekli ze tady venku spat nemužem protoze jim sem chodi medved tak snad bude misto ve Svitu tak Svit klapnul', '[169] Maxim Rubáš (290.38 km, 19:55:35):\\xa0P7M5E8 Dneska spime v hotelu tak parada! Dest vs Medvedi 1:0', '[87] Petr Šimek (287.05 km, 19:56:41):\\xa0P8M6E5 dekuji milacku za podporu, dnes jsem to potreboval', '[36] Tomáš Gothard (271.64 km, 18:14:03):\\xa0P6M8E9 prší a je mi zima', '[48] František Buchta (271.64 km, 18:42:55):\\xa0P9M9E9 Po horku jde pás bouřek,dám si piva doušek.', '[81] Hynek Plevka (271.64 km, 18:45:45):\\xa0P9M8E8X8 Dnes to bylo s chlupem,ale jsme v suchu,snad se to přes noc vyprší.Jinak paráda!', '[113] František Valeš (271.64 km, 18:48:31):\\xa0P5M8E8X9 jelikož prší jsme nuceni sedět v hospodě', '[151] Zdenek Matoulek (271.64 km, 18:11:25):\\xa0zrovna prší tsk je čas na povinnou sms', '[188] Lukáš Babovák (271.64 km, 18:44:43):\\xa0P3M3E8 Leje a leje dnes balim', '[58] Jiří Rumler (268.37 km, 18:56:59):\\xa0P8M8E9 Predne dekuji Petrovi Svitakovi (112) za pujceni 3 imbusoveho klice. Dnes nocleh v autocampu Betlanovice dojezd presne pred bourkou.', '[7] Přemysl Pleva (267.77 km, 19:02:21):\\xa0P9M9E9', '[43] Ulrike Hoinkis (267.77 km, 18:33:21):\\xa0zadny kopec zbytecny - no hill is invain', '[47] Pavel Maršík (267.77 km, 19:02:00):\\xa0P= ok M= ok E= ok X = 7. Unaven sluncem a ziju. Ubytko je dnes super.', '[51] Jan Mávr (267.77 km, 19:00:16):\\xa0P8M8E7 zustavam na miste', '[109] Rudolf Hes (267.77 km, 18:33:52):\\xa0P7M7E8 Ubytovani v kempu Betlanovce Venku bourka Dnes to jelo dobre', '[121] Martin Ducheček (267.77 km, 19:38:50):\\xa0P7M9E8 Dneska to bylo fajn.', '[170] Miroslav Hruška (267.77 km, 19:00:32):\\xa0P9E9M10 Ráno horko..tlacis a kilometry nikde...teď chlapec a bouri', '[183] Ctibor Ducheček (267.77 km, 19:40:02):\\xa0P7M7E7 jedu jedu', '[132] Martin Mikšovský (266.35 km, 19:21:50):\\xa0P4M5E9X5. Už jsem večer hledal vlak, moc špatný. Ale aplikoval jsem: Vzdát můžeš zítra. Dneska kapku lepší. Stejne pravidlo i dnes ...', '[25] Pavel Cipra (255.84 km, 19:43:52):\\xa0P9M9E9 vše ok', '[112] Petr Sviták (255.84 km, 18:23:02):\\xa0P6M9E7', '[124] Martin Pýcha (255.84 km, 18:24:47):\\xa0P9M9E8 Dnes to bylo fajn, škoda toho deště.', '[146] Zdeněk Zahrádka (255.84 km, 23:59:00):\\xa0P7M9E8 Dneska do 9 dojezd na limit dalšího medvědího zákazu, ale zrovna na rychlo schovaní před grandiózní přeháňkou', '[95] Štěpán Kolář (251.96 km, 18:15:45):\\xa0P9M9E8', '[27] Rudolf Mana (251.79 km, 18:32:21):\\xa0P9M9E9 Zdravím všechny! Sedím ve Spisske nové vsi a chvíli počkám než přejde bouřka. Chci ještě 20 km.', '[164] Martin Lebduška (251.55 km, 19:34:12):\\xa0P9 M9 E9 X9 našel jsem penzion', '[61] Karel Renger (251.07 km, 18:33:41):\\xa0P7M7E7 Dnes spim ve Spissky. Zitra vyrazim v 6 do zakazu. Dnes spise pesi turistika, ale ty sjezdy nadhera !', '[133] Petr Smejkal (251.07 km, 18:22:41):\\xa0P9M9E9 Ruzin Margecany Slovinky, to je rodny kraj me maminky. Proto se dnes jelo skvele, i solarko slo do prdele.', '[148] Ján Maďar (251.07 km, 19:43:02):\\xa0P8M8E6 zvar drží, pred SNV búrka tak rýchlo vyschnùť', '[198] Tomáš Hájek (251.07 km, 17:58:14):\\xa0P9M9E9 Dneska relax, zahrivame motory, pripravujeme se na útok na čelo závodu:))))', '[5] Tomáš Krejča (245.15 km, 21:15:47):\\xa0P9M9E9 Pres den zase vedro, ale vecer krasne prselo, tak to hned byla lepsi zabava. Proc jsem jeste nevidel medveda??', '[42] Pavel Chuchma (235.72 km, 18:12:05):\\xa0P9M9E9 Pekelná bouřčička nás chytla zrovna před jediným statkem na 15km dlouhem přejezdu mezi Poráčí a Tepličkou. Kiki oddychuje na posteli a my s Hankou baštíme ovčí sýr', '[122] Hana Švedová (235.72 km, 18:15:46):\\xa0P9M8E9 Bourka na zaver, jak se slusi a patri. Az prestane, snad pojedem jeste za Spisskou.', '[242] Kryštof Chuchma (235.72 km, 18:18:33):\\xa0P9M9E9', '[32] Vít Kurka (228.59 km, 20:27:12):\\xa0P9M9E9 Bourka tesne pred Poracem, neslo nic posilat', '[56] Petr Turok (228.59 km, 19:26:47):\\xa0P7M7M9', '[64] Šárka Kolbová (228.59 km, 20:28:44):\\xa0P9M9E9 Bourka tesne pred Poracem, omlouvam se za pozdni SMS', '[68] Jan Hromádko (228.59 km, 20:14:34):\\xa0P9M9E9 Nejdříve vedro a potom 2x bouřka, která nám znemožnila odeslat SMS do limitu 20hod.', '[136] Karel Menšík (228.59 km, 19:19:39):\\xa0P7 M7 E7 X7 Chytla nas bourka', '[139] Marek Ondra (228.59 km, 19:44:39):\\xa0P9M9E9 Posledni dve hodky v bource, ale super, lepsi nez vcerejsi peklo. Jako bonus super ubytko. Proste den jako koralek :-)', '[149] Vladimír Synek (228.59 km, 19:17:30):\\xa0P7M8E9 dneska jsem toho moc nenajel před Poráčem mě chytla bouřka a tak jsem se tady ubytoval myslím ujeto něco pod 60, hodně pod plánem', '[168] Tomáš Vortruba (228.59 km, 20:10:42):\\xa0Dojezd na Poráč, velké dennî vítězství', '[134] Jakub Frajkovský (220.57 km, 20:05:47):\\xa0P9M9E9,konecne bude sprcha', '[74] Radek Franek (220.54 km, 18:23:40):\\xa0P8M9E5 jde to, potřebuji servis', '[123] Michal Kohoutek (220.54 km, 18:22:32):\\xa0P8M9E8 jde to, ale dřeto', '[134] Jakub Frajkovský (220.54 km, 20:07:27):\\xa0P9M9E9 Slovinky zustavam“ byl přidán otazník', '[181] Nela Vondrková (216.08 km, 18:09:30):\\xa0P8M9E9 Turzov. Kvůli nastávající bouřce zůstávám zde. Lidi tu jsou a bezpečno víc než ve vedlejším městě.', '[82] Rastislav Dvořák (214.01 km, 18:12:07):\\xa0P1M4E9 som na chate Energetik na Plejsoch.Do Poraca daleko a dobre som spravil prisla burka.', '[59] Jan Přinosil (202.38 km, 18:45:09):\\xa0Bohužel končím. Díky všem.', '[154] Petr Šťovíček (200.36 km, 19:03:35):\\xa0P7M7E8', '[3] Milan Holuška (196.01 km, 19:39:04):\\xa0P8M8E8 pokracuji', '[69] Zdeněk Tiefenbach (170.53 km, 18:42:12):\\xa0P8M9E9 trochu bolí nohy, ale dobré, jedu dál', '[85] Jan Vozdecký (170.53 km, 20:06:12):\\xa0P9M9E9', '[34] Karolína Česáková (170.50 km, 19:29:32):\\xa0P8M8E9', '[60] Jiří Šantavý (170.50 km, 19:30:24):\\xa0P8M8E8', '[148] Ján Maďar (170.50 km, 09:18:58):\\xa0P8M9E7 po technických problémoch a oprave bicykla 148 pokračuje z Hrešnej', '[92] Jana Štěpánková (169.47 km, 18:49:58):\\xa0P9M9E9 Dnešní úlovek: 1 klíště, 5 hovad a 50 komárů. Poděkování do Čižatic.', '[93] Richard Štěpánek (169.47 km, 18:22:18):\\xa0P9M9E9 jsme jak na lyžáku. Třetí den je odpočinkový. Je skvělé vidět jak je na tom člověk ke svým nejbližším. Každý metr toho druhého je i mým úspěchem.', '[105] Jindřich Prchlík (153.35 km, 18:08:12):\\xa0P9M9E9 od kohoutku ke kohoutku a ted s velkym ramusem par kapek.', '[100] Pavla Dřímalová (97.23 km, 19:53:47):\\xa0P6M8E9 Dnes malinko lepsi nez vcera.Ted v romske osade-rychle pryc :-) Dnes zdravim Lukeho-kdy ze dame sraz v tech Tatrach?:-)Adamkovi obri pusenku:-)Kotrysovi pozdravim zas zitra:-)jdeme dal', '[128] Jakub Janík (97.23 km, 19:51:39):\\xa0P6M8E6 Je tu \"černo\" a navíc bude bouřka, zatím hledáme místo na spaní.', '[147] Marek Dvořák (97.23 km, 19:51:30):\\xa0P6M6E9 Začíná tady být černo!!! Ale ne jako počasí', '[21] Jitka Frankeová (92.67 km, 18:58:34):\\xa0Psychicky v pohodě 9 Fyzicky uťapaná, unavená, ale dá se to vydržet 8 Stav vybavení v pohodě 9 Ještě budu pokračovat', '[118] Karel Uher (64.36 km, 12:11:47):\\xa0Jovsa. Koncim, dal to nejde. Pretahuju se s asfaltem o boty a hulky, praskaji puchyre. Vsem dekuji za moralni podporu. A stejne je tu krasne, ikdyz je peklo.', '[2] Roman Vojtíšek (64.36 km, 13:32:15):\\xa0odstupuji, puchýře zalepit jdou, průjmy ne.', '[8] Macule Kindlová (54.13 km, 05:39:37):\\xa0Konec. Kotnik a koleno v haji. Many, myslim na tebe. Budu si te hlidat a pockam v cili na uvitanou. Drzim ti palce. Davej na sebe pozor.']\n"
          ]
        },
        {
          "output_type": "display_data",
          "data": {
            "text/plain": [
              "['[70] Lukáš Badura (536.06 km, 19:58:43):\\xa0P7M7E8 Dekuji za podporu, ale dnes to nebylo suchou nohou, nekdy je to boj. Ciao Lukess',\n",
              " '[173] Tomáš Fabián (533.99 km, 19:40:28):\\xa0P8M9E9 Dmes krasnq destiva horska etapa. Tes honem do cp',\n",
              " '[185] Tomáš Hadámek (533.99 km, 19:41:02):\\xa0P7M9E8',\n",
              " '[199] Tom Novotný (533.99 km, 19:40:22):\\xa0P8M9E9',\n",
              " '[35] Libor Darebník (526.99 km, 19:46:04):\\xa0Chtěl jsem na CP1, řeším nocleh. Asi Teplice.',\n",
              " '[108] Petr Vaněk (483.36 km, 19:25:14):\\xa0P8M8E8',\n",
              " '[90] Michael Kazimiers (451.60 km, 22:17:31):\\xa0P7M5E9',\n",
              " '[102] Michal Kučera (443.55 km, 19:53:19):\\xa0P7M9E10',\n",
              " '[14] Ondřej Kacar (436.24 km, 19:16:45):\\xa0Úžasný den. Miluško Kiliánku Kristiánku ❤',\n",
              " '[22] Tomáš Marada (436.24 km, 22:25:52):\\xa0P9M9E9 Vše v cajku, jedu dál.',\n",
              " '[78] Jakub Lély (436.24 km, 19:17:10):\\xa0P7M7E9 Celkem se to rozjelo. Jeste pokracuju',\n",
              " '[26] Ivan Andraško (428.48 km, 19:56:29):\\xa0P9M9E9',\n",
              " '[31] Václav Slíva (428.48 km, 19:51:06):\\xa0P3M6E8',\n",
              " '[156] Radek Maťha (428.48 km, 18:11:22):\\xa0P9M9E9 teda letosni Krizna fakt tyfus',\n",
              " '[103] Juraj Mydliar (413.34 km, 18:52:28):\\xa0P10M10E9',\n",
              " '[46] Rudolf Halbich (412.93 km, 19:43:42):\\xa0P7M7E9 Nezaprsi a nezaprsi!! Terezko moc se na Tebe těším!!',\n",
              " '[41] Pavel Hnyk (403.98 km, 20:02:05):\\xa0P7M4E9 vse ok',\n",
              " '[71] Radim Svoboda (403.98 km, 19:39:34):\\xa0P7M7E8 Zmokl jak cip.',\n",
              " '[73] Jan Lesák (403.80 km, 19:40:44):\\xa0P8M8E7 Leje',\n",
              " '[97] David Foldyna (394.09 km, 19:08:56):\\xa0P8M8E8 pluju v evoluvnim protiroudu,menim se v opici',\n",
              " '[29] Tomáš Drbohlav (393.68 km, 18:39:47):\\xa0P7M9E7 Križnou zahalil déšť, nás halí útulná vesnická čtyrka',\n",
              " '[94] Vojtěch Krejsa (393.68 km, 19:56:33):\\xa0P4M4E4 Po krasnym dnu na poslednim kopci dest. Zmrzlej a mokrej na kost. Dnes konec.',\n",
              " '[20] Jakub Cicvárek (393.67 km, 19:19:52):\\xa0P6M7E7X7',\n",
              " '[72] Pavel Kepka (393.67 km, 19:47:30):\\xa0P8M9E9',\n",
              " '[13] Petr Morávek (393.64 km, 19:21:18):\\xa0P8M8E7',\n",
              " '[50] Miloš Šimerda (393.64 km, 19:56:46):\\xa0P6M9E9',\n",
              " '[137] Robin Morávek (393.64 km, 19:19:50):\\xa0P5M5E8',\n",
              " '[53] Štěpán Pachta (381.72 km, 18:48:55):\\xa0P8M8E8 prší, musím rychle jeste přejet jeden kopec, vše ok',\n",
              " '[89] Ľubomír Jančovič (381.72 km, 23:59:27):\\xa0P8M8E9',\n",
              " '[140] Martin Parůžek (381.72 km, 23:59:43):\\xa0P8M8E7 pardon za pozdni odeslání splachlo mě to na posledním kopci, pak už nebyl signál a na další kopec jsem pro nej jet nechtěl , protože nám jel naproti závodník po setkání s medvedem. Jinak mile léčí , obohacují a taky odhalují charaktery poznání včerejšího večera.',\n",
              " '[119] Tomasz Fidytek (380.96 km, 20:13:23):\\xa0P7M7E8 Idę spać',\n",
              " '[65] Zdeněk Borůvka (377.81 km, 23:59:02):\\xa0P9M9E9 RANO VE SJEZDU JSEM PICHL , VSE V PORADKU, ZACALO PRSET SKVELY PAN NAS SHOVAL NA NOC POD STRECHU',\n",
              " '[86] Mira Zajíček (377.81 km, 23:59:05):\\xa0P9M9E9x9 spíme v chatě kvůli nepřízní pocasi',\n",
              " '[110] Václav Vondriska (377.81 km, 23:59:11):\\xa0P9N9E9',\n",
              " '[120] Anton Gardian (377.81 km, 23:59:43):\\xa0P9M9E9 dneska je to mokré :) ale dobre',\n",
              " '[131] Josef Magera (377.81 km, 23:59:11):\\xa0P9 M9E9 Zastavili jsme v chate u silnice, ochotny pan nas necha prespat v izbe. Zdravim taborniky ze Skripova!! Dejte si rundu na me',\n",
              " '[22] Tomáš Marada (372.94 km, 19:14:17):\\xa0P9M9E9 Vše v cajku, jedu dál.',\n",
              " '[66] David Rezek (366.16 km, 18:32:32):\\xa0P7M8P7 dneska super, zataženo, jelo se lépe, ale nyní je strašný liják',\n",
              " '[99] Markéta Rezková (366.16 km, 18:46:33):\\xa0P7M8P7 dnes bych jen jedla :-)) PS: strašně moc děkuji paní, která nám poskytla nocleh v tom strašným lijáku co teď je. Dobří lidé ještě existují! PS: Maxíku a Ferdíku jste moje lásky ❤️❤️',\n",
              " '[111] Jitka Gartnerová (366.16 km, 18:13:10):\\xa0P9M9E9 Kochaci etapa. Kozi kamen se mi tentokrat libil, protoze jsme ho jen objeli.',\n",
              " '[125] Ondřej Mašát (366.16 km, 19:59:59):\\xa0P8M8E8',\n",
              " '[28] Martin Coufal (362.06 km, 19:38:09):\\xa0P7M8E9 Jsem cely promoceny, doufam ze zitra nebude prset',\n",
              " '[106] Tomáš Sedláček (362.06 km, 19:09:44):\\xa0P7M9E9 Dneska se mi to moc líbilo. Krásné louky s výhledem na Vysoké Tatry, pak ještě hezčí výhled od nádrže Čierny Váh, parádní trail do Liptovského Hrádku a nakonec nás to brutálně spláchlo před Liptovskýma Klačanama.',\n",
              " '[107] Tomáš Benko (362.06 km, 19:14:55):\\xa0P7M3E9',\n",
              " '[11] Petr Michel (355.35 km, 18:17:26):\\xa0P9M9E9 dnes trochu prselo, vse ok, drzte palce je to makacka, jedu co to da, Vito a Karle myslim na vas, Bo mile',\n",
              " '[116] Pavel Horák (355.35 km, 18:23:56):\\xa0P8M5E8 Konecne zmizelo horko, jelo by se dobre, ale zlobi me obe kolena, tak snad se to rozhybe. Prej co boli, roste, rika trener :-)',\n",
              " '[117] Libor Štěpán (355.35 km, 18:15:20):\\xa0P9N9E9 Stridave destik,stridave slunicko. Jedu dal',\n",
              " '[83] Jaromír Maliňák (355.28 km, 19:09:27):\\xa0P8M7E9 Zdravim svoji rodinu ktera maka a stara se o meho psa zatimco ja si jezdim na kole dik',\n",
              " '[98] Pavel Polášek (355.28 km, 18:58:26):\\xa0P9M9E9 dnes to bylo jezdivejsí, počasí začalo zlobit',\n",
              " '[19] Frances Hiscox (351.76 km, 18:04:45):\\xa0P7M9E9',\n",
              " '[84] Vladimír Vinduška (351.76 km, 18:06:03):\\xa0P5M7E9. Tak my jedem na tu jednu GPS. Aspoň si mě dcera teď musí víc vážit. :-)',\n",
              " '[190] Markéta Marvanová (350.83 km, 20:00:33):\\xa0P9M9E9 velky dobry! Dnes dole i nahore. Vzdavani i zazraky. Vice na mych sitich ;)',\n",
              " '[55] Robin Pělucha (347.34 km, 11:31:53):\\xa0Ahoj. Bohuzel koncim, protaci se mi kazeta, servis s Liptovskem Mikulasi si nevi rady. Tak snad priste. Robin Pelucha',\n",
              " '[79] Lukáš Vik (339.66 km, 18:15:15):\\xa0P8M9E9 Zatim to jede, ale...',\n",
              " '[24] Radim Korček (339.55 km, 18:07:31):\\xa0P9M9E9 Dnes dva defekty',\n",
              " '[9] Martin Pospíšil (338.19 km, 19:01:25):\\xa0P9M9E9 ta prehrada byla vyzivna ale jedu, zdur',\n",
              " '[18] Martin Beránek (338.19 km, 18:55:27):\\xa0P7M9E9 Prsi',\n",
              " '[44] Josef Brychta (338.19 km, 18:53:11):\\xa0P9M9E8 super den akorat mohl počkat déšť ještě 2hod :-)',\n",
              " '[45] Jan Kupa (338.19 km, 18:52:13):\\xa0P8M9E9',\n",
              " '[172] Daniel Vyskočil (338.19 km, 18:55:35):\\xa0P7 M8 E8',\n",
              " '[101] Tomáš Barták (338.11 km, 22:25:20):\\xa0P9M9E9 Super den, jezdiva a hezka trasa, vyhledy na Tatry, vystup na Cierny Vah za odmenu. Pak utikani pred destem a bydlime v Liptovskem Hradku.',\n",
              " '[10] Radek Tichý (331.64 km, 19:53:42):\\xa0P9M9E9 zadulin ok',\n",
              " '[30] Tomáš Novotný (331.64 km, 19:25:14):\\xa0P9M9E9',\n",
              " '[49] Tomáš Hrábek (331.64 km, 19:56:32):\\xa0P6M7E9',\n",
              " '[54] Rostislav Havelka st. (331.64 km, 18:58:17):\\xa0P9M9E9 Dnes se nestalo nic zajímavého, pokračuji dal podle plánu. Louky nad Sunavou, které se mi před 3 lety tak líbily, mi letos přišly hrozně jednotvarne...',\n",
              " '[75] Kryštof Činčera (331.64 km, 20:09:10):\\xa0P8M7E9',\n",
              " '[77] Rostislav Havelka ml. (331.64 km, 19:05:18):\\xa0Dnes takovy klidny den. Je prijemnou zmenou byt v jinem state, kde lide vyvesuji pouze svoje vlajky..... A Slováci jsou navic strasne mili... Jen behem zastavky u benzinky nas oslovili dva lide, zda jedeme Mile..... Kdyz porovnam pocet Cechu a Slovaku ve startovni listine....',\n",
              " '[115] Matěj Činčera (331.64 km, 19:52:51):\\xa0P8M8E8',\n",
              " '[134] Jakub Frajkovský (331.64 km, 21:24:34):\\xa0P9M9E9,konecne bude sprcha',\n",
              " '[158] Jiří Kobr (331.64 km, 19:29:04):\\xa0P9M9E9 dnes konec moc prší.',\n",
              " '[33] Pavel Raška (331.52 km, 18:14:41):\\xa0P6M6E8',\n",
              " '[52] Jan Novák (331.52 km, 18:13:10):\\xa0P8M9E9 Celkem to jede . Pavlík moc nezlobí .',\n",
              " '[176] Aleš Daněk (331.52 km, 18:15:40):\\xa0P7M7E9X7 Dneska to bylo lepší než včera,nepařilo ☀️',\n",
              " '[40] Radka Hadámková (315.65 km, 19:35:39):\\xa0P6 M8 E7 X8 Dnes Prada, pocasi optimalni, krasne vyhledy, skvela spolecnost. Jedeme dal.',\n",
              " '[39] Petr Tlach (314.95 km, 19:22:06):\\xa0P8M9E8 specham do Svarina',\n",
              " '[57] Tomáš Pešek (311.07 km, 19:34:30):\\xa0P8M8E8 Krásně se spíš jde než jede :-) A ten deštník ..nádhera ;-)',\n",
              " '[163] Tomáš Kyral (311.07 km, 18:03:56):\\xa0P7M7E7 Dnes fantastická jízda, úžasná příroda, halušky. Jen Čierny Váh nevyšel - respektuji bouřku a pravidla - měl sem jet holt rychleji a jdu si najít ubytko ve vesnici.',\n",
              " '[12] Martin Coufalík (307.32 km, 19:57:25):\\xa0P8M8E8',\n",
              " '[104] Milan Hauer (305.11 km, 19:38:28):\\xa0P8M8E9',\n",
              " '[142] Jakub Šilar (303.96 km, 20:19:32):\\xa0P6M9E8 Dnes trochu pěší turistika, ale kilčo padlo a výhledy nadherny. Trochu zlobí koleno, ale dá se jet. V Šunavě celkem štěstí na fajn ubytko. ;-)',\n",
              " '[142] Jakub Šilar (302.45 km, 18:29:41):\\xa0P5M7E8. Nad Šuňavou mě zastihla bouřka a čekám v teple posedu, až se to trochu vyklidní. Plán je sjet do vesnice a tam někde zabivakovat.',\n",
              " '[96] Michal Dvořák (299.87 km, 19:05:50):\\xa0P9M9E9 Krásný večer....:-) jedu jako drak....:-) potkal jsem na trase parťáka č144 a je narozen také 1 . 8. :-)',\n",
              " '[144] Petr Zouhar (299.87 km, 19:06:21):\\xa0P6M9E6 Dnes pohosteni od mistnich v lese u Sunavy u diky moc',\n",
              " '[76] Tomáš Otta (294.33 km, 19:26:27):\\xa0P6M6E9 SIlenstvi a ja se na nej jeste pul roku tesim',\n",
              " '[17] Jan Vrňák (290.38 km, 18:47:08):\\xa0P7M7E8',\n",
              " '[37] Jakub Myška (290.38 km, 19:59:17):\\xa0P9M9E10 Dnešní jízda \"do kopce\" ze Spišké N. Vsi se ze začátku tvářila jako rovina, ale vítr z ní nakonec udělal kopec.',\n",
              " '[67] Karel Hnátek (290.38 km, 18:48:08):\\xa0P9M10E8',\n",
              " '[129] Marek Kiša (290.38 km, 19:17:00):\\xa0P9M9E9 Po ranni vrcharske rozvicce za Margecanama se paradoxne zdala nejtezsi rovinka cyklostezky v poli za Spisskou.',\n",
              " '[143] Roman Švach (290.38 km, 19:27:38):\\xa0P7M9E9 Prší, po tom horku příjemná změna. Krásné výhledy, které jsem neviděl skrze pot v očích, který navíc štípe.',\n",
              " '[145] Petr Vyskočil (290.38 km, 19:00:14):\\xa0P9M 8E9 pul dne boj s bolavym kolenem 8 km pred puvodnim koncem sekla navigace a ted nam rekli ze tady venku spat nemužem protoze jim sem chodi medved tak snad bude misto ve Svitu tak Svit klapnul',\n",
              " '[169] Maxim Rubáš (290.38 km, 19:55:35):\\xa0P7M5E8 Dneska spime v hotelu tak parada! Dest vs Medvedi 1:0',\n",
              " '[87] Petr Šimek (287.05 km, 19:56:41):\\xa0P8M6E5 dekuji milacku za podporu, dnes jsem to potreboval',\n",
              " '[36] Tomáš Gothard (271.64 km, 18:14:03):\\xa0P6M8E9 prší a je mi zima',\n",
              " '[48] František Buchta (271.64 km, 18:42:55):\\xa0P9M9E9 Po horku jde pás bouřek,dám si piva doušek.',\n",
              " '[81] Hynek Plevka (271.64 km, 18:45:45):\\xa0P9M8E8X8 Dnes to bylo s chlupem,ale jsme v suchu,snad se to přes noc vyprší.Jinak paráda!',\n",
              " '[113] František Valeš (271.64 km, 18:48:31):\\xa0P5M8E8X9 jelikož prší jsme nuceni sedět v hospodě',\n",
              " '[151] Zdenek Matoulek (271.64 km, 18:11:25):\\xa0zrovna prší tsk je čas na povinnou sms',\n",
              " '[188] Lukáš Babovák (271.64 km, 18:44:43):\\xa0P3M3E8 Leje a leje dnes balim',\n",
              " '[58] Jiří Rumler (268.37 km, 18:56:59):\\xa0P8M8E9 Predne dekuji Petrovi Svitakovi (112) za pujceni 3 imbusoveho klice. Dnes nocleh v autocampu Betlanovice dojezd presne pred bourkou.',\n",
              " '[7] Přemysl Pleva (267.77 km, 19:02:21):\\xa0P9M9E9',\n",
              " '[43] Ulrike Hoinkis (267.77 km, 18:33:21):\\xa0zadny kopec zbytecny - no hill is invain',\n",
              " '[47] Pavel Maršík (267.77 km, 19:02:00):\\xa0P= ok M= ok E= ok X = 7. Unaven sluncem a ziju. Ubytko je dnes super.',\n",
              " '[51] Jan Mávr (267.77 km, 19:00:16):\\xa0P8M8E7 zustavam na miste',\n",
              " '[109] Rudolf Hes (267.77 km, 18:33:52):\\xa0P7M7E8 Ubytovani v kempu Betlanovce Venku bourka Dnes to jelo dobre',\n",
              " '[121] Martin Ducheček (267.77 km, 19:38:50):\\xa0P7M9E8 Dneska to bylo fajn.',\n",
              " '[170] Miroslav Hruška (267.77 km, 19:00:32):\\xa0P9E9M10 Ráno horko..tlacis a kilometry nikde...teď chlapec a bouri',\n",
              " '[183] Ctibor Ducheček (267.77 km, 19:40:02):\\xa0P7M7E7 jedu jedu',\n",
              " '[132] Martin Mikšovský (266.35 km, 19:21:50):\\xa0P4M5E9X5. Už jsem večer hledal vlak, moc špatný. Ale aplikoval jsem: Vzdát můžeš zítra. Dneska kapku lepší. Stejne pravidlo i dnes ...',\n",
              " '[25] Pavel Cipra (255.84 km, 19:43:52):\\xa0P9M9E9 vše ok',\n",
              " '[112] Petr Sviták (255.84 km, 18:23:02):\\xa0P6M9E7',\n",
              " '[124] Martin Pýcha (255.84 km, 18:24:47):\\xa0P9M9E8 Dnes to bylo fajn, škoda toho deště.',\n",
              " '[146] Zdeněk Zahrádka (255.84 km, 23:59:00):\\xa0P7M9E8 Dneska do 9 dojezd na limit dalšího medvědího zákazu, ale zrovna na rychlo schovaní před grandiózní přeháňkou',\n",
              " '[95] Štěpán Kolář (251.96 km, 18:15:45):\\xa0P9M9E8',\n",
              " '[27] Rudolf Mana (251.79 km, 18:32:21):\\xa0P9M9E9 Zdravím všechny! Sedím ve Spisske nové vsi a chvíli počkám než přejde bouřka. Chci ještě 20 km.',\n",
              " '[164] Martin Lebduška (251.55 km, 19:34:12):\\xa0P9 M9 E9 X9 našel jsem penzion',\n",
              " '[61] Karel Renger (251.07 km, 18:33:41):\\xa0P7M7E7 Dnes spim ve Spissky. Zitra vyrazim v 6 do zakazu. Dnes spise pesi turistika, ale ty sjezdy nadhera !',\n",
              " '[133] Petr Smejkal (251.07 km, 18:22:41):\\xa0P9M9E9 Ruzin Margecany Slovinky, to je rodny kraj me maminky. Proto se dnes jelo skvele, i solarko slo do prdele.',\n",
              " '[148] Ján Maďar (251.07 km, 19:43:02):\\xa0P8M8E6 zvar drží, pred SNV búrka tak rýchlo vyschnùť',\n",
              " '[198] Tomáš Hájek (251.07 km, 17:58:14):\\xa0P9M9E9 Dneska relax, zahrivame motory, pripravujeme se na útok na čelo závodu:))))',\n",
              " '[5] Tomáš Krejča (245.15 km, 21:15:47):\\xa0P9M9E9 Pres den zase vedro, ale vecer krasne prselo, tak to hned byla lepsi zabava. Proc jsem jeste nevidel medveda??',\n",
              " '[42] Pavel Chuchma (235.72 km, 18:12:05):\\xa0P9M9E9 Pekelná bouřčička nás chytla zrovna před jediným statkem na 15km dlouhem přejezdu mezi Poráčí a Tepličkou. Kiki oddychuje na posteli a my s Hankou baštíme ovčí sýr',\n",
              " '[122] Hana Švedová (235.72 km, 18:15:46):\\xa0P9M8E9 Bourka na zaver, jak se slusi a patri. Az prestane, snad pojedem jeste za Spisskou.',\n",
              " '[242] Kryštof Chuchma (235.72 km, 18:18:33):\\xa0P9M9E9',\n",
              " '[32] Vít Kurka (228.59 km, 20:27:12):\\xa0P9M9E9 Bourka tesne pred Poracem, neslo nic posilat',\n",
              " '[56] Petr Turok (228.59 km, 19:26:47):\\xa0P7M7M9',\n",
              " '[64] Šárka Kolbová (228.59 km, 20:28:44):\\xa0P9M9E9 Bourka tesne pred Poracem, omlouvam se za pozdni SMS',\n",
              " '[68] Jan Hromádko (228.59 km, 20:14:34):\\xa0P9M9E9 Nejdříve vedro a potom 2x bouřka, která nám znemožnila odeslat SMS do limitu 20hod.',\n",
              " '[136] Karel Menšík (228.59 km, 19:19:39):\\xa0P7 M7 E7 X7 Chytla nas bourka',\n",
              " '[139] Marek Ondra (228.59 km, 19:44:39):\\xa0P9M9E9 Posledni dve hodky v bource, ale super, lepsi nez vcerejsi peklo. Jako bonus super ubytko. Proste den jako koralek :-)',\n",
              " '[149] Vladimír Synek (228.59 km, 19:17:30):\\xa0P7M8E9 dneska jsem toho moc nenajel před Poráčem mě chytla bouřka a tak jsem se tady ubytoval myslím ujeto něco pod 60, hodně pod plánem',\n",
              " '[168] Tomáš Vortruba (228.59 km, 20:10:42):\\xa0Dojezd na Poráč, velké dennî vítězství',\n",
              " '[134] Jakub Frajkovský (220.57 km, 20:05:47):\\xa0P9M9E9,konecne bude sprcha',\n",
              " '[74] Radek Franek (220.54 km, 18:23:40):\\xa0P8M9E5 jde to, potřebuji servis',\n",
              " '[123] Michal Kohoutek (220.54 km, 18:22:32):\\xa0P8M9E8 jde to, ale dřeto',\n",
              " '[134] Jakub Frajkovský (220.54 km, 20:07:27):\\xa0P9M9E9 Slovinky zustavam“ byl přidán otazník',\n",
              " '[181] Nela Vondrková (216.08 km, 18:09:30):\\xa0P8M9E9 Turzov. Kvůli nastávající bouřce zůstávám zde. Lidi tu jsou a bezpečno víc než ve vedlejším městě.',\n",
              " '[82] Rastislav Dvořák (214.01 km, 18:12:07):\\xa0P1M4E9 som na chate Energetik na Plejsoch.Do Poraca daleko a dobre som spravil prisla burka.',\n",
              " '[59] Jan Přinosil (202.38 km, 18:45:09):\\xa0Bohužel končím. Díky všem.',\n",
              " '[154] Petr Šťovíček (200.36 km, 19:03:35):\\xa0P7M7E8',\n",
              " '[3] Milan Holuška (196.01 km, 19:39:04):\\xa0P8M8E8 pokracuji',\n",
              " '[69] Zdeněk Tiefenbach (170.53 km, 18:42:12):\\xa0P8M9E9 trochu bolí nohy, ale dobré, jedu dál',\n",
              " '[85] Jan Vozdecký (170.53 km, 20:06:12):\\xa0P9M9E9',\n",
              " '[34] Karolína Česáková (170.50 km, 19:29:32):\\xa0P8M8E9',\n",
              " '[60] Jiří Šantavý (170.50 km, 19:30:24):\\xa0P8M8E8',\n",
              " '[148] Ján Maďar (170.50 km, 09:18:58):\\xa0P8M9E7 po technických problémoch a oprave bicykla 148 pokračuje z Hrešnej',\n",
              " '[92] Jana Štěpánková (169.47 km, 18:49:58):\\xa0P9M9E9 Dnešní úlovek: 1 klíště, 5 hovad a 50 komárů. Poděkování do Čižatic.',\n",
              " '[93] Richard Štěpánek (169.47 km, 18:22:18):\\xa0P9M9E9 jsme jak na lyžáku. Třetí den je odpočinkový. Je skvělé vidět jak je na tom člověk ke svým nejbližším. Každý metr toho druhého je i mým úspěchem.',\n",
              " '[105] Jindřich Prchlík (153.35 km, 18:08:12):\\xa0P9M9E9 od kohoutku ke kohoutku a ted s velkym ramusem par kapek.',\n",
              " '[100] Pavla Dřímalová (97.23 km, 19:53:47):\\xa0P6M8E9 Dnes malinko lepsi nez vcera.Ted v romske osade-rychle pryc :-) Dnes zdravim Lukeho-kdy ze dame sraz v tech Tatrach?:-)Adamkovi obri pusenku:-)Kotrysovi pozdravim zas zitra:-)jdeme dal',\n",
              " '[128] Jakub Janík (97.23 km, 19:51:39):\\xa0P6M8E6 Je tu \"černo\" a navíc bude bouřka, zatím hledáme místo na spaní.',\n",
              " '[147] Marek Dvořák (97.23 km, 19:51:30):\\xa0P6M6E9 Začíná tady být černo!!! Ale ne jako počasí',\n",
              " '[21] Jitka Frankeová (92.67 km, 18:58:34):\\xa0Psychicky v pohodě 9 Fyzicky uťapaná, unavená, ale dá se to vydržet 8 Stav vybavení v pohodě 9 Ještě budu pokračovat',\n",
              " '[118] Karel Uher (64.36 km, 12:11:47):\\xa0Jovsa. Koncim, dal to nejde. Pretahuju se s asfaltem o boty a hulky, praskaji puchyre. Vsem dekuji za moralni podporu. A stejne je tu krasne, ikdyz je peklo.',\n",
              " '[2] Roman Vojtíšek (64.36 km, 13:32:15):\\xa0odstupuji, puchýře zalepit jdou, průjmy ne.',\n",
              " '[8] Macule Kindlová (54.13 km, 05:39:37):\\xa0Konec. Kotnik a koleno v haji. Many, myslim na tebe. Budu si te hlidat a pockam v cili na uvitanou. Drzim ti palce. Davej na sebe pozor.']"
            ]
          },
          "metadata": {}
        }
      ],
      "source": [
        "import requests\n",
        "from bs4 import BeautifulSoup\n",
        "\n",
        "URL = \"https://www.1000miles.cz/2022-den-2\"\n",
        "page = requests.get(URL)\n",
        "\n",
        "#print(page.text)\n",
        "\n",
        "soup = BeautifulSoup(page.content, \"html.parser\")\n",
        "result = soup.find(id=\"sms_sever_2022den2\")\n",
        "sms_north = result.text # all in one string\n",
        "sms_north = sms_north.split('\\n') # split by newlines\n",
        "sms_north = [s for s in sms_north if s.startswith('[')] # remove invalid lines\n",
        "\n",
        "# add to dataframe\n",
        "print(sms_north)\n",
        "\n",
        "display(sms_north)"
      ]
    },
    {
      "cell_type": "markdown",
      "source": [
        ""
      ],
      "metadata": {
        "id": "O8DF33hzbuqv"
      }
    }
  ]
}